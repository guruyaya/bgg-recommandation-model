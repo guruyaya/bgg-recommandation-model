{
 "metadata": {
  "language_info": {
   "codemirror_mode": {
    "name": "ipython",
    "version": 3
   },
   "file_extension": ".py",
   "mimetype": "text/x-python",
   "name": "python",
   "nbconvert_exporter": "python",
   "pygments_lexer": "ipython3",
   "version": "3.8.5"
  },
  "orig_nbformat": 2,
  "kernelspec": {
   "name": "python3",
   "display_name": "Python 3",
   "language": "python"
  },
  "metadata": {
   "interpreter": {
    "hash": "aea635fd5dd158a5837e51905e37577b4dd22bcfe950f382423b3e37360bdd09"
   }
  }
 },
 "nbformat": 4,
 "nbformat_minor": 2,
 "cells": [
  {
   "source": [
    "# BGG Recommendation model\n",
    "This notebook explores a ready model for BGG recommendations"
   ],
   "cell_type": "markdown",
   "metadata": {}
  },
  {
   "cell_type": "code",
   "execution_count": 1,
   "metadata": {},
   "outputs": [],
   "source": [
    "import pandas as pd\n",
    "import xgboost as xgb\n",
    "from matplotlib import pyplot\n",
    "import glob\n",
    "import numpy as np"
   ]
  },
  {
   "source": [
    "## Sample data\n",
    "The original data included a comment from the user, the game_id column was called \"ID\", and it had an \"Unnamed: 0\" column as an index. The applies changes to make the data more useable, and the sample data presented is more similar to the shuffled data"
   ],
   "cell_type": "markdown",
   "metadata": {}
  },
  {
   "cell_type": "code",
   "execution_count": 4,
   "metadata": {},
   "outputs": [],
   "source": [
    "sample_train = pd.DataFrame([\n",
    "    ('1000salmons',157354,8.0),\n",
    "    ('1000salmons',128882,7.5),\n",
    "    ('1000salmons',2407,4.5),\n",
    "    ('1000salmons',178900,8.0),\n",
    "    ('1000salmons',1294,5.0),\n",
    "    ('1000salmons',12194,7.0),\n",
    "    ('1000salmons',146735,7.0),\n",
    "    ('1000salmons',70919,7.5),\n",
    "    ('1000salmons',1406,5.0),\n",
    "    ('1000salmons',1293,6.0),\n",
    "    ('1000salmons',67877,6.5),\n",
    "    ('1000salmons',84876,9.0),\n",
    "    ('1000salmons',36218,8.5),\n",
    "    ('1000salmons',19796,6.0),\n",
    "    ('1000salmons',2381,6.0),\n",
    "    ('1000salmons',50381,6.5),\n",
    "], \n",
    "columns=['user', 'game_id', 'rating'],\n",
    "index=(506155,1048906,4433087,5143551,5295373,6563448,\n",
    "        6765807,6879196,8291897,8629273,10142237,10523140,\n",
    "        12212202,12365209,13306961,13362454)\n",
    ")\n",
    "\n",
    "sample_test = pd.DataFrame([\n",
    "    ('1000salmons',150376,7.5),\n",
    "    ('1000salmons',68448,8.5),\n",
    "    ('1000salmons',320,6.5),\n",
    "    ('1000salmons',129622,7.5),\n",
    "], \n",
    "columns=['user', 'game_id', 'rating'],\n",
    "index=(13533141,14859079,14913452,15349127)\n",
    ")"
   ]
  },
  {
   "cell_type": "code",
   "execution_count": 6,
   "metadata": {},
   "outputs": [],
   "source": [
    "game_details_df = pd.read_csv('data/games_detailed_info.csv')\n",
    "game_details_df = game_details_df.set_index('id')\n"
   ]
  },
  {
   "source": [
    "Lets see the games our test user likes"
   ],
   "cell_type": "markdown",
   "metadata": {}
  },
  {
   "cell_type": "code",
   "execution_count": 8,
   "metadata": {},
   "outputs": [
    {
     "output_type": "execute_result",
     "data": {
      "text/plain": [
       "                 user  game_id  rating                       primary\n",
       "506155    1000salmons   157354     8.0                   Five Tribes\n",
       "1048906   1000salmons   128882     7.5        The Resistance: Avalon\n",
       "4433087   1000salmons     2407     4.5                        Sorry!\n",
       "5143551   1000salmons   178900     8.0                     Codenames\n",
       "5295373   1000salmons     1294     5.0                          Clue\n",
       "6563448   1000salmons    12194     7.0               Munchkin Bites!\n",
       "6765807   1000salmons   146735     7.0       Munchkin Adventure Time\n",
       "6879196   1000salmons    70919     7.5                      Takenoko\n",
       "8291897   1000salmons     1406     5.0                      Monopoly\n",
       "8629273   1000salmons     1293     6.0                        Boggle\n",
       "10142237  1000salmons    67877     6.5                        Anomia\n",
       "10523140  1000salmons    84876     9.0       The Castles of Burgundy\n",
       "12212202  1000salmons    36218     8.5                      Dominion\n",
       "12365209  1000salmons    19796     6.0  Cranium: The Family Fun Game\n",
       "13306961  1000salmons     2381     6.0                 Scattergories\n",
       "13362454  1000salmons    50381     6.5        Cards Against Humanity"
      ],
      "text/html": "<div>\n<style scoped>\n    .dataframe tbody tr th:only-of-type {\n        vertical-align: middle;\n    }\n\n    .dataframe tbody tr th {\n        vertical-align: top;\n    }\n\n    .dataframe thead th {\n        text-align: right;\n    }\n</style>\n<table border=\"1\" class=\"dataframe\">\n  <thead>\n    <tr style=\"text-align: right;\">\n      <th></th>\n      <th>user</th>\n      <th>game_id</th>\n      <th>rating</th>\n      <th>primary</th>\n    </tr>\n  </thead>\n  <tbody>\n    <tr>\n      <th>506155</th>\n      <td>1000salmons</td>\n      <td>157354</td>\n      <td>8.0</td>\n      <td>Five Tribes</td>\n    </tr>\n    <tr>\n      <th>1048906</th>\n      <td>1000salmons</td>\n      <td>128882</td>\n      <td>7.5</td>\n      <td>The Resistance: Avalon</td>\n    </tr>\n    <tr>\n      <th>4433087</th>\n      <td>1000salmons</td>\n      <td>2407</td>\n      <td>4.5</td>\n      <td>Sorry!</td>\n    </tr>\n    <tr>\n      <th>5143551</th>\n      <td>1000salmons</td>\n      <td>178900</td>\n      <td>8.0</td>\n      <td>Codenames</td>\n    </tr>\n    <tr>\n      <th>5295373</th>\n      <td>1000salmons</td>\n      <td>1294</td>\n      <td>5.0</td>\n      <td>Clue</td>\n    </tr>\n    <tr>\n      <th>6563448</th>\n      <td>1000salmons</td>\n      <td>12194</td>\n      <td>7.0</td>\n      <td>Munchkin Bites!</td>\n    </tr>\n    <tr>\n      <th>6765807</th>\n      <td>1000salmons</td>\n      <td>146735</td>\n      <td>7.0</td>\n      <td>Munchkin Adventure Time</td>\n    </tr>\n    <tr>\n      <th>6879196</th>\n      <td>1000salmons</td>\n      <td>70919</td>\n      <td>7.5</td>\n      <td>Takenoko</td>\n    </tr>\n    <tr>\n      <th>8291897</th>\n      <td>1000salmons</td>\n      <td>1406</td>\n      <td>5.0</td>\n      <td>Monopoly</td>\n    </tr>\n    <tr>\n      <th>8629273</th>\n      <td>1000salmons</td>\n      <td>1293</td>\n      <td>6.0</td>\n      <td>Boggle</td>\n    </tr>\n    <tr>\n      <th>10142237</th>\n      <td>1000salmons</td>\n      <td>67877</td>\n      <td>6.5</td>\n      <td>Anomia</td>\n    </tr>\n    <tr>\n      <th>10523140</th>\n      <td>1000salmons</td>\n      <td>84876</td>\n      <td>9.0</td>\n      <td>The Castles of Burgundy</td>\n    </tr>\n    <tr>\n      <th>12212202</th>\n      <td>1000salmons</td>\n      <td>36218</td>\n      <td>8.5</td>\n      <td>Dominion</td>\n    </tr>\n    <tr>\n      <th>12365209</th>\n      <td>1000salmons</td>\n      <td>19796</td>\n      <td>6.0</td>\n      <td>Cranium: The Family Fun Game</td>\n    </tr>\n    <tr>\n      <th>13306961</th>\n      <td>1000salmons</td>\n      <td>2381</td>\n      <td>6.0</td>\n      <td>Scattergories</td>\n    </tr>\n    <tr>\n      <th>13362454</th>\n      <td>1000salmons</td>\n      <td>50381</td>\n      <td>6.5</td>\n      <td>Cards Against Humanity</td>\n    </tr>\n  </tbody>\n</table>\n</div>"
     },
     "metadata": {},
     "execution_count": 8
    }
   ],
   "source": [
    "sample_train.join(game_details_df[['primary']], on=sample_train.game_id)"
   ]
  },
  {
   "source": [
    "We are ready to start playing. First of all, lets load the rating pipline"
   ],
   "cell_type": "markdown",
   "metadata": {}
  },
  {
   "source": [
    "# Fitting the user\n",
    "Unlike other models in machine learning, recommendation systems have to do some fitting on the traning data past the model creation. This fitting method is designed to handle new user data, and does not affect the model. That's why we use transform on the data, instead of predict.\n",
    "We'll do some data exploration later"
   ],
   "cell_type": "markdown",
   "metadata": {}
  },
  {
   "cell_type": "code",
   "execution_count": 11,
   "metadata": {},
   "outputs": [
    {
     "output_type": "stream",
     "name": "stdout",
     "text": [
      "Loading game data\n"
     ]
    }
   ],
   "source": [
    "from prepare_comments import get_pipeline\n",
    "pipeline = get_pipeline('models/encoded_games_detailed_info.fethear')\n",
    "\n",
    "train_y = sample_train['rating']\n",
    "test_y = sample_test['rating']\n",
    "\n",
    "train_X = pipeline.fit_transform(sample_train.drop('rating', axis=1), train_y)\n",
    "test_X = pipeline.transform(sample_test.drop('rating', axis=1))\n",
    "\n",
    "train_X = pd.DataFrame(train_X, columns=pipeline.steps[-1][1].get_feature_names())\n",
    "test_X = pd.DataFrame(test_X, columns=pipeline.steps[-1][1].get_feature_names())"
   ]
  },
  {
   "source": [
    "The first game the user reviwed was \"Five Tribes\". Here are the game details from the original table"
   ],
   "cell_type": "markdown",
   "metadata": {}
  },
  {
   "cell_type": "code",
   "execution_count": 12,
   "metadata": {},
   "outputs": [
    {
     "output_type": "execute_result",
     "data": {
      "text/plain": [
       "yearpublished                                                     2014\n",
       "minplayers                                                           2\n",
       "maxplayers                                                           4\n",
       "boardgamecategory       ['Animals', 'Arabian', 'Fantasy', 'Mythology']\n",
       "boardgamemechanic    ['Auction/Bidding', 'End Game Bonuses', 'Hidde...\n",
       "averageweight                                                   2.8516\n",
       "Name: 157354, dtype: object"
      ]
     },
     "metadata": {},
     "execution_count": 12
    }
   ],
   "source": [
    "game_details_df[game_details_df['primary'] == 'Five Tribes'][\n",
    "    ['yearpublished', 'minplayers', 'maxplayers', 'boardgamecategory', 'boardgamemechanic', 'averageweight']\n",
    "].iloc[0]"
   ]
  },
  {
   "cell_type": "code",
   "execution_count": 13,
   "metadata": {},
   "outputs": [
    {
     "output_type": "execute_result",
     "data": {
      "text/plain": [
       "mean__weight__less_than_0.50   -1.000000\n",
       "mean__weight__0.51-1.0         -1.000000\n",
       "mean__weight__1.01-1.5          6.214286\n",
       "mean__weight__1.51-2.0          6.500000\n",
       "mean__weight__2.01-2.5          8.500000\n",
       "mean__weight__2.51-3.0          8.500000\n",
       "mean__weight__3.01-3.5         -1.000000\n",
       "mean__weight__3.51-4.0         -1.000000\n",
       "mean__weight__more_than_4.01   -1.000000\n",
       "Name: 0, dtype: float64"
      ]
     },
     "metadata": {},
     "execution_count": 13
    }
   ],
   "source": [
    "a = train_X.iloc[0][ [a for a in train_X.columns if a.startswith('mean__weight')] ]\n",
    "a[a!=0]"
   ]
  },
  {
   "cell_type": "code",
   "execution_count": 14,
   "metadata": {},
   "outputs": [
    {
     "output_type": "execute_result",
     "data": {
      "text/plain": [
       "game__weight__less_than_0.50    0.000000\n",
       "game__weight__2.01-2.5          0.000000\n",
       "game__weight__2.51-3.0          1.000000\n",
       "game__players__couples          1.000000\n",
       "game__players__multiplayers     1.000000\n",
       "game__players__party            0.000000\n",
       "game__category__card_game       0.000000\n",
       "game__category__fantasy         1.000000\n",
       "game__desc_nlp__five            0.458203\n",
       "game__desc_nlp__win             0.105453\n",
       "game__desc_nlp__dice            0.000000\n",
       "Name: 0, dtype: float64"
      ]
     },
     "metadata": {},
     "execution_count": 14
    }
   ],
   "source": [
    "train_X[\n",
    "    ['game__weight__less_than_0.50', 'game__weight__2.01-2.5', 'game__weight__2.51-3.0', 'game__players__couples', 'game__players__multiplayers', 'game__players__party', 'game__category__card_game', 'game__category__fantasy', 'game__desc_nlp__five', 'game__desc_nlp__win', 'game__desc_nlp__dice']\n",
    "].iloc[0]\n"
   ]
  },
  {
   "cell_type": "code",
   "execution_count": 15,
   "metadata": {},
   "outputs": [
    {
     "output_type": "execute_result",
     "data": {
      "text/plain": [
       "sum__weight__less_than_0.50     0.000000\n",
       "sum__weight__2.01-2.5           1.000000\n",
       "sum__weight__2.51-3.0           2.000000\n",
       "sum__players__couples          15.000000\n",
       "sum__players__multiplayers     16.000000\n",
       "sum__players__party            11.000000\n",
       "sum__category__card_game        6.000000\n",
       "sum__category__fantasy          3.000000\n",
       "sum__desc_nlp__five             1.003577\n",
       "sum__desc_nlp__win              0.892038\n",
       "sum__desc_nlp__dice             0.437331\n",
       "Name: 0, dtype: float64"
      ]
     },
     "metadata": {},
     "execution_count": 15
    }
   ],
   "source": [
    "train_X[\n",
    "    ['sum__weight__less_than_0.50', 'sum__weight__2.01-2.5', 'sum__weight__2.51-3.0', 'sum__players__couples', 'sum__players__multiplayers', 'sum__players__party', 'sum__category__card_game', 'sum__category__fantasy', 'sum__desc_nlp__five', 'sum__desc_nlp__win', 'sum__desc_nlp__dice']\n",
    "].iloc[0]"
   ]
  },
  {
   "cell_type": "code",
   "execution_count": 16,
   "metadata": {},
   "outputs": [
    {
     "output_type": "execute_result",
     "data": {
      "text/plain": [
       "mean__weight__less_than_0.50   -1.000000\n",
       "mean__weight__2.01-2.5          8.500000\n",
       "mean__weight__2.51-3.0          8.500000\n",
       "mean__players__couples          6.800000\n",
       "mean__players__multiplayers     6.750000\n",
       "mean__players__party            6.409091\n",
       "mean__category__card_game       7.416667\n",
       "mean__category__fantasy         7.500000\n",
       "mean__desc_nlp__five            1.389940\n",
       "mean__desc_nlp__win             1.064370\n",
       "mean__desc_nlp__dice            1.043670\n",
       "Name: 0, dtype: float64"
      ]
     },
     "metadata": {},
     "execution_count": 16
    }
   ],
   "source": [
    "train_X[\n",
    "    ['mean__weight__less_than_0.50', 'mean__weight__2.01-2.5', 'mean__weight__2.51-3.0', 'mean__players__couples', 'mean__players__multiplayers', 'mean__players__party', 'mean__category__card_game', 'mean__category__fantasy', 'mean__desc_nlp__five', 'mean__desc_nlp__win', 'mean__desc_nlp__dice']\n",
    "].iloc[0]"
   ]
  },
  {
   "source": [
    "## The model\n",
    "Before stating, lets have a look at the model performance history (measured against validation group, in a 40 minuetes learning process), and the key metrics of the model"
   ],
   "cell_type": "markdown",
   "metadata": {}
  },
  {
   "cell_type": "code",
   "execution_count": 25,
   "metadata": {},
   "outputs": [
    {
     "output_type": "execute_result",
     "data": {
      "text/plain": [
       "<matplotlib.axes._subplots.AxesSubplot at 0x7f6b9ffdec90>"
      ]
     },
     "metadata": {},
     "execution_count": 25
    },
    {
     "output_type": "display_data",
     "data": {
      "text/plain": "<Figure size 432x288 with 1 Axes>",
      "image/svg+xml": "<?xml version=\"1.0\" encoding=\"utf-8\" standalone=\"no\"?>\n<!DOCTYPE svg PUBLIC \"-//W3C//DTD SVG 1.1//EN\"\n  \"http://www.w3.org/Graphics/SVG/1.1/DTD/svg11.dtd\">\n<!-- Created with matplotlib (https://matplotlib.org/) -->\n<svg height=\"248.518125pt\" version=\"1.1\" viewBox=\"0 0 372.103125 248.518125\" width=\"372.103125pt\" xmlns=\"http://www.w3.org/2000/svg\" xmlns:xlink=\"http://www.w3.org/1999/xlink\">\n <defs>\n  <style type=\"text/css\">\n*{stroke-linecap:butt;stroke-linejoin:round;}\n  </style>\n </defs>\n <g id=\"figure_1\">\n  <g id=\"patch_1\">\n   <path d=\"M 0 248.518125 \nL 372.103125 248.518125 \nL 372.103125 0 \nL 0 0 \nz\n\" style=\"fill:none;\"/>\n  </g>\n  <g id=\"axes_1\">\n   <g id=\"patch_2\">\n    <path d=\"M 30.103125 224.64 \nL 364.903125 224.64 \nL 364.903125 7.2 \nL 30.103125 7.2 \nz\n\" style=\"fill:#ffffff;\"/>\n   </g>\n   <g id=\"matplotlib.axis_1\">\n    <g id=\"xtick_1\">\n     <g id=\"line2d_1\">\n      <defs>\n       <path d=\"M 0 0 \nL 0 3.5 \n\" id=\"m015c2c21b6\" style=\"stroke:#000000;stroke-width:0.8;\"/>\n      </defs>\n      <g>\n       <use style=\"stroke:#000000;stroke-width:0.8;\" x=\"45.321307\" xlink:href=\"#m015c2c21b6\" y=\"224.64\"/>\n      </g>\n     </g>\n     <g id=\"text_1\">\n      <!-- 0 -->\n      <defs>\n       <path d=\"M 31.78125 66.40625 \nQ 24.171875 66.40625 20.328125 58.90625 \nQ 16.5 51.421875 16.5 36.375 \nQ 16.5 21.390625 20.328125 13.890625 \nQ 24.171875 6.390625 31.78125 6.390625 \nQ 39.453125 6.390625 43.28125 13.890625 \nQ 47.125 21.390625 47.125 36.375 \nQ 47.125 51.421875 43.28125 58.90625 \nQ 39.453125 66.40625 31.78125 66.40625 \nz\nM 31.78125 74.21875 \nQ 44.046875 74.21875 50.515625 64.515625 \nQ 56.984375 54.828125 56.984375 36.375 \nQ 56.984375 17.96875 50.515625 8.265625 \nQ 44.046875 -1.421875 31.78125 -1.421875 \nQ 19.53125 -1.421875 13.0625 8.265625 \nQ 6.59375 17.96875 6.59375 36.375 \nQ 6.59375 54.828125 13.0625 64.515625 \nQ 19.53125 74.21875 31.78125 74.21875 \nz\n\" id=\"DejaVuSans-48\"/>\n      </defs>\n      <g transform=\"translate(42.140057 239.238437)scale(0.1 -0.1)\">\n       <use xlink:href=\"#DejaVuSans-48\"/>\n      </g>\n     </g>\n    </g>\n    <g id=\"xtick_2\">\n     <g id=\"line2d_2\">\n      <g>\n       <use style=\"stroke:#000000;stroke-width:0.8;\" x=\"99.671956\" xlink:href=\"#m015c2c21b6\" y=\"224.64\"/>\n      </g>\n     </g>\n     <g id=\"text_2\">\n      <!-- 5 -->\n      <defs>\n       <path d=\"M 10.796875 72.90625 \nL 49.515625 72.90625 \nL 49.515625 64.59375 \nL 19.828125 64.59375 \nL 19.828125 46.734375 \nQ 21.96875 47.46875 24.109375 47.828125 \nQ 26.265625 48.1875 28.421875 48.1875 \nQ 40.625 48.1875 47.75 41.5 \nQ 54.890625 34.8125 54.890625 23.390625 \nQ 54.890625 11.625 47.5625 5.09375 \nQ 40.234375 -1.421875 26.90625 -1.421875 \nQ 22.3125 -1.421875 17.546875 -0.640625 \nQ 12.796875 0.140625 7.71875 1.703125 \nL 7.71875 11.625 \nQ 12.109375 9.234375 16.796875 8.0625 \nQ 21.484375 6.890625 26.703125 6.890625 \nQ 35.15625 6.890625 40.078125 11.328125 \nQ 45.015625 15.765625 45.015625 23.390625 \nQ 45.015625 31 40.078125 35.4375 \nQ 35.15625 39.890625 26.703125 39.890625 \nQ 22.75 39.890625 18.8125 39.015625 \nQ 14.890625 38.140625 10.796875 36.28125 \nz\n\" id=\"DejaVuSans-53\"/>\n      </defs>\n      <g transform=\"translate(96.490706 239.238437)scale(0.1 -0.1)\">\n       <use xlink:href=\"#DejaVuSans-53\"/>\n      </g>\n     </g>\n    </g>\n    <g id=\"xtick_3\">\n     <g id=\"line2d_3\">\n      <g>\n       <use style=\"stroke:#000000;stroke-width:0.8;\" x=\"154.022606\" xlink:href=\"#m015c2c21b6\" y=\"224.64\"/>\n      </g>\n     </g>\n     <g id=\"text_3\">\n      <!-- 10 -->\n      <defs>\n       <path d=\"M 12.40625 8.296875 \nL 28.515625 8.296875 \nL 28.515625 63.921875 \nL 10.984375 60.40625 \nL 10.984375 69.390625 \nL 28.421875 72.90625 \nL 38.28125 72.90625 \nL 38.28125 8.296875 \nL 54.390625 8.296875 \nL 54.390625 0 \nL 12.40625 0 \nz\n\" id=\"DejaVuSans-49\"/>\n      </defs>\n      <g transform=\"translate(147.660106 239.238437)scale(0.1 -0.1)\">\n       <use xlink:href=\"#DejaVuSans-49\"/>\n       <use x=\"63.623047\" xlink:href=\"#DejaVuSans-48\"/>\n      </g>\n     </g>\n    </g>\n    <g id=\"xtick_4\">\n     <g id=\"line2d_4\">\n      <g>\n       <use style=\"stroke:#000000;stroke-width:0.8;\" x=\"208.373255\" xlink:href=\"#m015c2c21b6\" y=\"224.64\"/>\n      </g>\n     </g>\n     <g id=\"text_4\">\n      <!-- 15 -->\n      <g transform=\"translate(202.010755 239.238437)scale(0.1 -0.1)\">\n       <use xlink:href=\"#DejaVuSans-49\"/>\n       <use x=\"63.623047\" xlink:href=\"#DejaVuSans-53\"/>\n      </g>\n     </g>\n    </g>\n    <g id=\"xtick_5\">\n     <g id=\"line2d_5\">\n      <g>\n       <use style=\"stroke:#000000;stroke-width:0.8;\" x=\"262.723904\" xlink:href=\"#m015c2c21b6\" y=\"224.64\"/>\n      </g>\n     </g>\n     <g id=\"text_5\">\n      <!-- 20 -->\n      <defs>\n       <path d=\"M 19.1875 8.296875 \nL 53.609375 8.296875 \nL 53.609375 0 \nL 7.328125 0 \nL 7.328125 8.296875 \nQ 12.9375 14.109375 22.625 23.890625 \nQ 32.328125 33.6875 34.8125 36.53125 \nQ 39.546875 41.84375 41.421875 45.53125 \nQ 43.3125 49.21875 43.3125 52.78125 \nQ 43.3125 58.59375 39.234375 62.25 \nQ 35.15625 65.921875 28.609375 65.921875 \nQ 23.96875 65.921875 18.8125 64.3125 \nQ 13.671875 62.703125 7.8125 59.421875 \nL 7.8125 69.390625 \nQ 13.765625 71.78125 18.9375 73 \nQ 24.125 74.21875 28.421875 74.21875 \nQ 39.75 74.21875 46.484375 68.546875 \nQ 53.21875 62.890625 53.21875 53.421875 \nQ 53.21875 48.921875 51.53125 44.890625 \nQ 49.859375 40.875 45.40625 35.40625 \nQ 44.1875 33.984375 37.640625 27.21875 \nQ 31.109375 20.453125 19.1875 8.296875 \nz\n\" id=\"DejaVuSans-50\"/>\n      </defs>\n      <g transform=\"translate(256.361404 239.238437)scale(0.1 -0.1)\">\n       <use xlink:href=\"#DejaVuSans-50\"/>\n       <use x=\"63.623047\" xlink:href=\"#DejaVuSans-48\"/>\n      </g>\n     </g>\n    </g>\n    <g id=\"xtick_6\">\n     <g id=\"line2d_6\">\n      <g>\n       <use style=\"stroke:#000000;stroke-width:0.8;\" x=\"317.074554\" xlink:href=\"#m015c2c21b6\" y=\"224.64\"/>\n      </g>\n     </g>\n     <g id=\"text_6\">\n      <!-- 25 -->\n      <g transform=\"translate(310.712054 239.238437)scale(0.1 -0.1)\">\n       <use xlink:href=\"#DejaVuSans-50\"/>\n       <use x=\"63.623047\" xlink:href=\"#DejaVuSans-53\"/>\n      </g>\n     </g>\n    </g>\n   </g>\n   <g id=\"matplotlib.axis_2\">\n    <g id=\"ytick_1\">\n     <g id=\"line2d_7\">\n      <defs>\n       <path d=\"M 0 0 \nL -3.5 0 \n\" id=\"m481bc4c0ae\" style=\"stroke:#000000;stroke-width:0.8;\"/>\n      </defs>\n      <g>\n       <use style=\"stroke:#000000;stroke-width:0.8;\" x=\"30.103125\" xlink:href=\"#m481bc4c0ae\" y=\"216.277981\"/>\n      </g>\n     </g>\n     <g id=\"text_7\">\n      <!-- 1.0 -->\n      <defs>\n       <path d=\"M 10.6875 12.40625 \nL 21 12.40625 \nL 21 0 \nL 10.6875 0 \nz\n\" id=\"DejaVuSans-46\"/>\n      </defs>\n      <g transform=\"translate(7.2 220.077199)scale(0.1 -0.1)\">\n       <use xlink:href=\"#DejaVuSans-49\"/>\n       <use x=\"63.623047\" xlink:href=\"#DejaVuSans-46\"/>\n       <use x=\"95.410156\" xlink:href=\"#DejaVuSans-48\"/>\n      </g>\n     </g>\n    </g>\n    <g id=\"ytick_2\">\n     <g id=\"line2d_8\">\n      <g>\n       <use style=\"stroke:#000000;stroke-width:0.8;\" x=\"30.103125\" xlink:href=\"#m481bc4c0ae\" y=\"174.431252\"/>\n      </g>\n     </g>\n     <g id=\"text_8\">\n      <!-- 1.5 -->\n      <g transform=\"translate(7.2 178.23047)scale(0.1 -0.1)\">\n       <use xlink:href=\"#DejaVuSans-49\"/>\n       <use x=\"63.623047\" xlink:href=\"#DejaVuSans-46\"/>\n       <use x=\"95.410156\" xlink:href=\"#DejaVuSans-53\"/>\n      </g>\n     </g>\n    </g>\n    <g id=\"ytick_3\">\n     <g id=\"line2d_9\">\n      <g>\n       <use style=\"stroke:#000000;stroke-width:0.8;\" x=\"30.103125\" xlink:href=\"#m481bc4c0ae\" y=\"132.584523\"/>\n      </g>\n     </g>\n     <g id=\"text_9\">\n      <!-- 2.0 -->\n      <g transform=\"translate(7.2 136.383741)scale(0.1 -0.1)\">\n       <use xlink:href=\"#DejaVuSans-50\"/>\n       <use x=\"63.623047\" xlink:href=\"#DejaVuSans-46\"/>\n       <use x=\"95.410156\" xlink:href=\"#DejaVuSans-48\"/>\n      </g>\n     </g>\n    </g>\n    <g id=\"ytick_4\">\n     <g id=\"line2d_10\">\n      <g>\n       <use style=\"stroke:#000000;stroke-width:0.8;\" x=\"30.103125\" xlink:href=\"#m481bc4c0ae\" y=\"90.737794\"/>\n      </g>\n     </g>\n     <g id=\"text_10\">\n      <!-- 2.5 -->\n      <g transform=\"translate(7.2 94.537012)scale(0.1 -0.1)\">\n       <use xlink:href=\"#DejaVuSans-50\"/>\n       <use x=\"63.623047\" xlink:href=\"#DejaVuSans-46\"/>\n       <use x=\"95.410156\" xlink:href=\"#DejaVuSans-53\"/>\n      </g>\n     </g>\n    </g>\n    <g id=\"ytick_5\">\n     <g id=\"line2d_11\">\n      <g>\n       <use style=\"stroke:#000000;stroke-width:0.8;\" x=\"30.103125\" xlink:href=\"#m481bc4c0ae\" y=\"48.891065\"/>\n      </g>\n     </g>\n     <g id=\"text_11\">\n      <!-- 3.0 -->\n      <defs>\n       <path d=\"M 40.578125 39.3125 \nQ 47.65625 37.796875 51.625 33 \nQ 55.609375 28.21875 55.609375 21.1875 \nQ 55.609375 10.40625 48.1875 4.484375 \nQ 40.765625 -1.421875 27.09375 -1.421875 \nQ 22.515625 -1.421875 17.65625 -0.515625 \nQ 12.796875 0.390625 7.625 2.203125 \nL 7.625 11.71875 \nQ 11.71875 9.328125 16.59375 8.109375 \nQ 21.484375 6.890625 26.8125 6.890625 \nQ 36.078125 6.890625 40.9375 10.546875 \nQ 45.796875 14.203125 45.796875 21.1875 \nQ 45.796875 27.640625 41.28125 31.265625 \nQ 36.765625 34.90625 28.71875 34.90625 \nL 20.21875 34.90625 \nL 20.21875 43.015625 \nL 29.109375 43.015625 \nQ 36.375 43.015625 40.234375 45.921875 \nQ 44.09375 48.828125 44.09375 54.296875 \nQ 44.09375 59.90625 40.109375 62.90625 \nQ 36.140625 65.921875 28.71875 65.921875 \nQ 24.65625 65.921875 20.015625 65.03125 \nQ 15.375 64.15625 9.8125 62.3125 \nL 9.8125 71.09375 \nQ 15.4375 72.65625 20.34375 73.4375 \nQ 25.25 74.21875 29.59375 74.21875 \nQ 40.828125 74.21875 47.359375 69.109375 \nQ 53.90625 64.015625 53.90625 55.328125 \nQ 53.90625 49.265625 50.4375 45.09375 \nQ 46.96875 40.921875 40.578125 39.3125 \nz\n\" id=\"DejaVuSans-51\"/>\n      </defs>\n      <g transform=\"translate(7.2 52.690283)scale(0.1 -0.1)\">\n       <use xlink:href=\"#DejaVuSans-51\"/>\n       <use x=\"63.623047\" xlink:href=\"#DejaVuSans-46\"/>\n       <use x=\"95.410156\" xlink:href=\"#DejaVuSans-48\"/>\n      </g>\n     </g>\n    </g>\n   </g>\n   <g id=\"line2d_12\">\n    <path clip-path=\"url(#peb625fd44c)\" d=\"M 45.321307 17.083636 \nL 56.191437 135.061868 \nL 67.061567 179.229607 \nL 77.931696 197.274831 \nL 88.801826 202.542232 \nL 99.671956 203.738239 \nL 110.542086 204.515355 \nL 121.412216 203.092223 \nL 132.282346 204.194249 \nL 143.152476 205.494775 \nL 154.022606 207.448544 \nL 164.892735 209.065809 \nL 175.762865 211.024366 \nL 186.632995 211.665799 \nL 197.503125 211.725037 \nL 208.373255 211.803062 \nL 219.243385 212.117339 \nL 230.113515 212.514095 \nL 240.983644 212.584447 \nL 251.853774 212.767834 \nL 262.723904 213.511443 \nL 273.594034 213.622303 \nL 284.464164 213.611985 \nL 295.334294 214.385635 \nL 306.204424 214.244168 \nL 317.074554 214.638814 \nL 327.944683 214.756364 \nL 338.814813 214.525429 \nL 349.684943 214.509272 \n\" style=\"fill:none;stroke:#1f77b4;stroke-linecap:square;stroke-width:1.5;\"/>\n   </g>\n   <g id=\"patch_3\">\n    <path d=\"M 30.103125 224.64 \nL 30.103125 7.2 \n\" style=\"fill:none;stroke:#000000;stroke-linecap:square;stroke-linejoin:miter;stroke-width:0.8;\"/>\n   </g>\n   <g id=\"patch_4\">\n    <path d=\"M 364.903125 224.64 \nL 364.903125 7.2 \n\" style=\"fill:none;stroke:#000000;stroke-linecap:square;stroke-linejoin:miter;stroke-width:0.8;\"/>\n   </g>\n   <g id=\"patch_5\">\n    <path d=\"M 30.103125 224.64 \nL 364.903125 224.64 \n\" style=\"fill:none;stroke:#000000;stroke-linecap:square;stroke-linejoin:miter;stroke-width:0.8;\"/>\n   </g>\n   <g id=\"patch_6\">\n    <path d=\"M 30.103125 7.2 \nL 364.903125 7.2 \n\" style=\"fill:none;stroke:#000000;stroke-linecap:square;stroke-linejoin:miter;stroke-width:0.8;\"/>\n   </g>\n  </g>\n </g>\n <defs>\n  <clipPath id=\"peb625fd44c\">\n   <rect height=\"217.44\" width=\"334.8\" x=\"30.103125\" y=\"7.2\"/>\n  </clipPath>\n </defs>\n</svg>\n",
      "image/png": "[encoded data removed]"
     },
     "metadata": {
      "needs_background": "light"
     }
    }
   ],
   "source": [
    "history = pd.read_csv('models/loss_history.csv')\n",
    "history['MSE'].plot()"
   ]
  },
  {
   "cell_type": "code",
   "execution_count": 17,
   "metadata": {},
   "outputs": [],
   "source": [
    "model = xgb.Booster()\n",
    "model.load_model('models/model_data.json')"
   ]
  },
  {
   "cell_type": "code",
   "execution_count": 20,
   "metadata": {},
   "outputs": [],
   "source": [
    "f_score = model.get_fscore()\n",
    "f_score = dict([ (train_X.columns[ int(key.replace('f', '')) ], int(value)) for key, value in f_score.items() ])\n",
    "f_score = pd.Series(f_score).sort_values(ascending=False)"
   ]
  },
  {
   "cell_type": "code",
   "execution_count": 21,
   "metadata": {},
   "outputs": [],
   "source": [
    "df_f_score = f_score.to_frame().reset_index()\n",
    "df_f_score = df_f_score.rename({0: 'power'}, axis=1)"
   ]
  },
  {
   "cell_type": "code",
   "execution_count": 30,
   "metadata": {},
   "outputs": [
    {
     "output_type": "execute_result",
     "data": {
      "text/plain": [
       "<matplotlib.axes._subplots.AxesSubplot at 0x7f6b9d91b990>"
      ]
     },
     "metadata": {},
     "execution_count": 30
    },
    {
     "output_type": "display_data",
     "data": {
      "text/plain": "<Figure size 432x288 with 1 Axes>",
      "image/svg+xml": "<?xml version=\"1.0\" encoding=\"utf-8\" standalone=\"no\"?>\n<!DOCTYPE svg PUBLIC \"-//W3C//DTD SVG 1.1//EN\"\n  \"http://www.w3.org/Graphics/SVG/1.1/DTD/svg11.dtd\">\n<!-- Created with matplotlib (https://matplotlib.org/) -->\n<svg height=\"248.518125pt\" version=\"1.1\" viewBox=\"0 0 517.085938 248.518125\" width=\"517.085938pt\" xmlns=\"http://www.w3.org/2000/svg\" xmlns:xlink=\"http://www.w3.org/1999/xlink\">\n <defs>\n  <style type=\"text/css\">\n*{stroke-linecap:butt;stroke-linejoin:round;}\n  </style>\n </defs>\n <g id=\"figure_1\">\n  <g id=\"patch_1\">\n   <path d=\"M 0 248.518125 \nL 517.085938 248.518125 \nL 517.085938 0 \nL 0 0 \nz\n\" style=\"fill:none;\"/>\n  </g>\n  <g id=\"axes_1\">\n   <g id=\"patch_2\">\n    <path d=\"M 175.085938 224.64 \nL 509.885938 224.64 \nL 509.885938 7.2 \nL 175.085938 7.2 \nz\n\" style=\"fill:#ffffff;\"/>\n   </g>\n   <g id=\"patch_3\">\n    <path clip-path=\"url(#p077d624674)\" d=\"M 175.085938 220.458462 \nL 493.94308 220.458462 \nL 493.94308 212.095385 \nL 175.085938 212.095385 \nz\n\" style=\"fill:#1f77b4;\"/>\n   </g>\n   <g id=\"patch_4\">\n    <path clip-path=\"url(#p077d624674)\" d=\"M 175.085938 203.732308 \nL 373.977027 203.732308 \nL 373.977027 195.369231 \nL 175.085938 195.369231 \nz\n\" style=\"fill:#1f77b4;\"/>\n   </g>\n   <g id=\"patch_5\">\n    <path clip-path=\"url(#p077d624674)\" d=\"M 175.085938 187.006154 \nL 359.244353 187.006154 \nL 359.244353 178.643077 \nL 175.085938 178.643077 \nz\n\" style=\"fill:#1f77b4;\"/>\n   </g>\n   <g id=\"patch_6\">\n    <path clip-path=\"url(#p077d624674)\" d=\"M 175.085938 170.28 \nL 347.668681 170.28 \nL 347.668681 161.916923 \nL 175.085938 161.916923 \nz\n\" style=\"fill:#1f77b4;\"/>\n   </g>\n   <g id=\"patch_7\">\n    <path clip-path=\"url(#p077d624674)\" d=\"M 175.085938 153.553846 \nL 313.467833 153.553846 \nL 313.467833 145.190769 \nL 175.085938 145.190769 \nz\n\" style=\"fill:#1f77b4;\"/>\n   </g>\n   <g id=\"patch_8\">\n    <path clip-path=\"url(#p077d624674)\" d=\"M 175.085938 136.827692 \nL 308.732331 136.827692 \nL 308.732331 128.464615 \nL 175.085938 128.464615 \nz\n\" style=\"fill:#1f77b4;\"/>\n   </g>\n   <g id=\"patch_9\">\n    <path clip-path=\"url(#p077d624674)\" d=\"M 175.085938 120.101538 \nL 299.261326 120.101538 \nL 299.261326 111.738462 \nL 175.085938 111.738462 \nz\n\" style=\"fill:#1f77b4;\"/>\n   </g>\n   <g id=\"patch_10\">\n    <path clip-path=\"url(#p077d624674)\" d=\"M 175.085938 103.375385 \nL 287.685655 103.375385 \nL 287.685655 95.012308 \nL 175.085938 95.012308 \nz\n\" style=\"fill:#1f77b4;\"/>\n   </g>\n   <g id=\"patch_11\">\n    <path clip-path=\"url(#p077d624674)\" d=\"M 175.085938 86.649231 \nL 280.319318 86.649231 \nL 280.319318 78.286154 \nL 175.085938 78.286154 \nz\n\" style=\"fill:#1f77b4;\"/>\n   </g>\n   <g id=\"patch_12\">\n    <path clip-path=\"url(#p077d624674)\" d=\"M 175.085938 69.923077 \nL 271.900648 69.923077 \nL 271.900648 61.56 \nL 175.085938 61.56 \nz\n\" style=\"fill:#1f77b4;\"/>\n   </g>\n   <g id=\"patch_13\">\n    <path clip-path=\"url(#p077d624674)\" d=\"M 175.085938 53.196923 \nL 265.060478 53.196923 \nL 265.060478 44.833846 \nL 175.085938 44.833846 \nz\n\" style=\"fill:#1f77b4;\"/>\n   </g>\n   <g id=\"patch_14\">\n    <path clip-path=\"url(#p077d624674)\" d=\"M 175.085938 36.470769 \nL 264.534311 36.470769 \nL 264.534311 28.107692 \nL 175.085938 28.107692 \nz\n\" style=\"fill:#1f77b4;\"/>\n   </g>\n   <g id=\"patch_15\">\n    <path clip-path=\"url(#p077d624674)\" d=\"M 175.085938 19.744615 \nL 263.481977 19.744615 \nL 263.481977 11.381538 \nL 175.085938 11.381538 \nz\n\" style=\"fill:#1f77b4;\"/>\n   </g>\n   <g id=\"matplotlib.axis_1\">\n    <g id=\"xtick_1\">\n     <g id=\"line2d_1\">\n      <defs>\n       <path d=\"M 0 0 \nL 0 3.5 \n\" id=\"m427f55ff0f\" style=\"stroke:#000000;stroke-width:0.8;\"/>\n      </defs>\n      <g>\n       <use style=\"stroke:#000000;stroke-width:0.8;\" x=\"175.085938\" xlink:href=\"#m427f55ff0f\" y=\"224.64\"/>\n      </g>\n     </g>\n     <g id=\"text_1\">\n      <!-- 0 -->\n      <defs>\n       <path d=\"M 31.78125 66.40625 \nQ 24.171875 66.40625 20.328125 58.90625 \nQ 16.5 51.421875 16.5 36.375 \nQ 16.5 21.390625 20.328125 13.890625 \nQ 24.171875 6.390625 31.78125 6.390625 \nQ 39.453125 6.390625 43.28125 13.890625 \nQ 47.125 21.390625 47.125 36.375 \nQ 47.125 51.421875 43.28125 58.90625 \nQ 39.453125 66.40625 31.78125 66.40625 \nz\nM 31.78125 74.21875 \nQ 44.046875 74.21875 50.515625 64.515625 \nQ 56.984375 54.828125 56.984375 36.375 \nQ 56.984375 17.96875 50.515625 8.265625 \nQ 44.046875 -1.421875 31.78125 -1.421875 \nQ 19.53125 -1.421875 13.0625 8.265625 \nQ 6.59375 17.96875 6.59375 36.375 \nQ 6.59375 54.828125 13.0625 64.515625 \nQ 19.53125 74.21875 31.78125 74.21875 \nz\n\" id=\"DejaVuSans-48\"/>\n      </defs>\n      <g transform=\"translate(171.904687 239.238437)scale(0.1 -0.1)\">\n       <use xlink:href=\"#DejaVuSans-48\"/>\n      </g>\n     </g>\n    </g>\n    <g id=\"xtick_2\">\n     <g id=\"line2d_2\">\n      <g>\n       <use style=\"stroke:#000000;stroke-width:0.8;\" x=\"227.702628\" xlink:href=\"#m427f55ff0f\" y=\"224.64\"/>\n      </g>\n     </g>\n     <g id=\"text_2\">\n      <!-- 100 -->\n      <defs>\n       <path d=\"M 12.40625 8.296875 \nL 28.515625 8.296875 \nL 28.515625 63.921875 \nL 10.984375 60.40625 \nL 10.984375 69.390625 \nL 28.421875 72.90625 \nL 38.28125 72.90625 \nL 38.28125 8.296875 \nL 54.390625 8.296875 \nL 54.390625 0 \nL 12.40625 0 \nz\n\" id=\"DejaVuSans-49\"/>\n      </defs>\n      <g transform=\"translate(218.158878 239.238437)scale(0.1 -0.1)\">\n       <use xlink:href=\"#DejaVuSans-49\"/>\n       <use x=\"63.623047\" xlink:href=\"#DejaVuSans-48\"/>\n       <use x=\"127.246094\" xlink:href=\"#DejaVuSans-48\"/>\n      </g>\n     </g>\n    </g>\n    <g id=\"xtick_3\">\n     <g id=\"line2d_3\">\n      <g>\n       <use style=\"stroke:#000000;stroke-width:0.8;\" x=\"280.319318\" xlink:href=\"#m427f55ff0f\" y=\"224.64\"/>\n      </g>\n     </g>\n     <g id=\"text_3\">\n      <!-- 200 -->\n      <defs>\n       <path d=\"M 19.1875 8.296875 \nL 53.609375 8.296875 \nL 53.609375 0 \nL 7.328125 0 \nL 7.328125 8.296875 \nQ 12.9375 14.109375 22.625 23.890625 \nQ 32.328125 33.6875 34.8125 36.53125 \nQ 39.546875 41.84375 41.421875 45.53125 \nQ 43.3125 49.21875 43.3125 52.78125 \nQ 43.3125 58.59375 39.234375 62.25 \nQ 35.15625 65.921875 28.609375 65.921875 \nQ 23.96875 65.921875 18.8125 64.3125 \nQ 13.671875 62.703125 7.8125 59.421875 \nL 7.8125 69.390625 \nQ 13.765625 71.78125 18.9375 73 \nQ 24.125 74.21875 28.421875 74.21875 \nQ 39.75 74.21875 46.484375 68.546875 \nQ 53.21875 62.890625 53.21875 53.421875 \nQ 53.21875 48.921875 51.53125 44.890625 \nQ 49.859375 40.875 45.40625 35.40625 \nQ 44.1875 33.984375 37.640625 27.21875 \nQ 31.109375 20.453125 19.1875 8.296875 \nz\n\" id=\"DejaVuSans-50\"/>\n      </defs>\n      <g transform=\"translate(270.775568 239.238437)scale(0.1 -0.1)\">\n       <use xlink:href=\"#DejaVuSans-50\"/>\n       <use x=\"63.623047\" xlink:href=\"#DejaVuSans-48\"/>\n       <use x=\"127.246094\" xlink:href=\"#DejaVuSans-48\"/>\n      </g>\n     </g>\n    </g>\n    <g id=\"xtick_4\">\n     <g id=\"line2d_4\">\n      <g>\n       <use style=\"stroke:#000000;stroke-width:0.8;\" x=\"332.936008\" xlink:href=\"#m427f55ff0f\" y=\"224.64\"/>\n      </g>\n     </g>\n     <g id=\"text_4\">\n      <!-- 300 -->\n      <defs>\n       <path d=\"M 40.578125 39.3125 \nQ 47.65625 37.796875 51.625 33 \nQ 55.609375 28.21875 55.609375 21.1875 \nQ 55.609375 10.40625 48.1875 4.484375 \nQ 40.765625 -1.421875 27.09375 -1.421875 \nQ 22.515625 -1.421875 17.65625 -0.515625 \nQ 12.796875 0.390625 7.625 2.203125 \nL 7.625 11.71875 \nQ 11.71875 9.328125 16.59375 8.109375 \nQ 21.484375 6.890625 26.8125 6.890625 \nQ 36.078125 6.890625 40.9375 10.546875 \nQ 45.796875 14.203125 45.796875 21.1875 \nQ 45.796875 27.640625 41.28125 31.265625 \nQ 36.765625 34.90625 28.71875 34.90625 \nL 20.21875 34.90625 \nL 20.21875 43.015625 \nL 29.109375 43.015625 \nQ 36.375 43.015625 40.234375 45.921875 \nQ 44.09375 48.828125 44.09375 54.296875 \nQ 44.09375 59.90625 40.109375 62.90625 \nQ 36.140625 65.921875 28.71875 65.921875 \nQ 24.65625 65.921875 20.015625 65.03125 \nQ 15.375 64.15625 9.8125 62.3125 \nL 9.8125 71.09375 \nQ 15.4375 72.65625 20.34375 73.4375 \nQ 25.25 74.21875 29.59375 74.21875 \nQ 40.828125 74.21875 47.359375 69.109375 \nQ 53.90625 64.015625 53.90625 55.328125 \nQ 53.90625 49.265625 50.4375 45.09375 \nQ 46.96875 40.921875 40.578125 39.3125 \nz\n\" id=\"DejaVuSans-51\"/>\n      </defs>\n      <g transform=\"translate(323.392258 239.238437)scale(0.1 -0.1)\">\n       <use xlink:href=\"#DejaVuSans-51\"/>\n       <use x=\"63.623047\" xlink:href=\"#DejaVuSans-48\"/>\n       <use x=\"127.246094\" xlink:href=\"#DejaVuSans-48\"/>\n      </g>\n     </g>\n    </g>\n    <g id=\"xtick_5\">\n     <g id=\"line2d_5\">\n      <g>\n       <use style=\"stroke:#000000;stroke-width:0.8;\" x=\"385.552698\" xlink:href=\"#m427f55ff0f\" y=\"224.64\"/>\n      </g>\n     </g>\n     <g id=\"text_5\">\n      <!-- 400 -->\n      <defs>\n       <path d=\"M 37.796875 64.3125 \nL 12.890625 25.390625 \nL 37.796875 25.390625 \nz\nM 35.203125 72.90625 \nL 47.609375 72.90625 \nL 47.609375 25.390625 \nL 58.015625 25.390625 \nL 58.015625 17.1875 \nL 47.609375 17.1875 \nL 47.609375 0 \nL 37.796875 0 \nL 37.796875 17.1875 \nL 4.890625 17.1875 \nL 4.890625 26.703125 \nz\n\" id=\"DejaVuSans-52\"/>\n      </defs>\n      <g transform=\"translate(376.008948 239.238437)scale(0.1 -0.1)\">\n       <use xlink:href=\"#DejaVuSans-52\"/>\n       <use x=\"63.623047\" xlink:href=\"#DejaVuSans-48\"/>\n       <use x=\"127.246094\" xlink:href=\"#DejaVuSans-48\"/>\n      </g>\n     </g>\n    </g>\n    <g id=\"xtick_6\">\n     <g id=\"line2d_6\">\n      <g>\n       <use style=\"stroke:#000000;stroke-width:0.8;\" x=\"438.169389\" xlink:href=\"#m427f55ff0f\" y=\"224.64\"/>\n      </g>\n     </g>\n     <g id=\"text_6\">\n      <!-- 500 -->\n      <defs>\n       <path d=\"M 10.796875 72.90625 \nL 49.515625 72.90625 \nL 49.515625 64.59375 \nL 19.828125 64.59375 \nL 19.828125 46.734375 \nQ 21.96875 47.46875 24.109375 47.828125 \nQ 26.265625 48.1875 28.421875 48.1875 \nQ 40.625 48.1875 47.75 41.5 \nQ 54.890625 34.8125 54.890625 23.390625 \nQ 54.890625 11.625 47.5625 5.09375 \nQ 40.234375 -1.421875 26.90625 -1.421875 \nQ 22.3125 -1.421875 17.546875 -0.640625 \nQ 12.796875 0.140625 7.71875 1.703125 \nL 7.71875 11.625 \nQ 12.109375 9.234375 16.796875 8.0625 \nQ 21.484375 6.890625 26.703125 6.890625 \nQ 35.15625 6.890625 40.078125 11.328125 \nQ 45.015625 15.765625 45.015625 23.390625 \nQ 45.015625 31 40.078125 35.4375 \nQ 35.15625 39.890625 26.703125 39.890625 \nQ 22.75 39.890625 18.8125 39.015625 \nQ 14.890625 38.140625 10.796875 36.28125 \nz\n\" id=\"DejaVuSans-53\"/>\n      </defs>\n      <g transform=\"translate(428.625639 239.238437)scale(0.1 -0.1)\">\n       <use xlink:href=\"#DejaVuSans-53\"/>\n       <use x=\"63.623047\" xlink:href=\"#DejaVuSans-48\"/>\n       <use x=\"127.246094\" xlink:href=\"#DejaVuSans-48\"/>\n      </g>\n     </g>\n    </g>\n    <g id=\"xtick_7\">\n     <g id=\"line2d_7\">\n      <g>\n       <use style=\"stroke:#000000;stroke-width:0.8;\" x=\"490.786079\" xlink:href=\"#m427f55ff0f\" y=\"224.64\"/>\n      </g>\n     </g>\n     <g id=\"text_7\">\n      <!-- 600 -->\n      <defs>\n       <path d=\"M 33.015625 40.375 \nQ 26.375 40.375 22.484375 35.828125 \nQ 18.609375 31.296875 18.609375 23.390625 \nQ 18.609375 15.53125 22.484375 10.953125 \nQ 26.375 6.390625 33.015625 6.390625 \nQ 39.65625 6.390625 43.53125 10.953125 \nQ 47.40625 15.53125 47.40625 23.390625 \nQ 47.40625 31.296875 43.53125 35.828125 \nQ 39.65625 40.375 33.015625 40.375 \nz\nM 52.59375 71.296875 \nL 52.59375 62.3125 \nQ 48.875 64.0625 45.09375 64.984375 \nQ 41.3125 65.921875 37.59375 65.921875 \nQ 27.828125 65.921875 22.671875 59.328125 \nQ 17.53125 52.734375 16.796875 39.40625 \nQ 19.671875 43.65625 24.015625 45.921875 \nQ 28.375 48.1875 33.59375 48.1875 \nQ 44.578125 48.1875 50.953125 41.515625 \nQ 57.328125 34.859375 57.328125 23.390625 \nQ 57.328125 12.15625 50.6875 5.359375 \nQ 44.046875 -1.421875 33.015625 -1.421875 \nQ 20.359375 -1.421875 13.671875 8.265625 \nQ 6.984375 17.96875 6.984375 36.375 \nQ 6.984375 53.65625 15.1875 63.9375 \nQ 23.390625 74.21875 37.203125 74.21875 \nQ 40.921875 74.21875 44.703125 73.484375 \nQ 48.484375 72.75 52.59375 71.296875 \nz\n\" id=\"DejaVuSans-54\"/>\n      </defs>\n      <g transform=\"translate(481.242329 239.238437)scale(0.1 -0.1)\">\n       <use xlink:href=\"#DejaVuSans-54\"/>\n       <use x=\"63.623047\" xlink:href=\"#DejaVuSans-48\"/>\n       <use x=\"127.246094\" xlink:href=\"#DejaVuSans-48\"/>\n      </g>\n     </g>\n    </g>\n   </g>\n   <g id=\"matplotlib.axis_2\">\n    <g id=\"ytick_1\">\n     <g id=\"line2d_8\">\n      <defs>\n       <path d=\"M 0 0 \nL -3.5 0 \n\" id=\"m309c831f2d\" style=\"stroke:#000000;stroke-width:0.8;\"/>\n      </defs>\n      <g>\n       <use style=\"stroke:#000000;stroke-width:0.8;\" x=\"175.085938\" xlink:href=\"#m309c831f2d\" y=\"216.276923\"/>\n      </g>\n     </g>\n     <g id=\"text_8\">\n      <!-- game__review__count -->\n      <defs>\n       <path d=\"M 45.40625 27.984375 \nQ 45.40625 37.75 41.375 43.109375 \nQ 37.359375 48.484375 30.078125 48.484375 \nQ 22.859375 48.484375 18.828125 43.109375 \nQ 14.796875 37.75 14.796875 27.984375 \nQ 14.796875 18.265625 18.828125 12.890625 \nQ 22.859375 7.515625 30.078125 7.515625 \nQ 37.359375 7.515625 41.375 12.890625 \nQ 45.40625 18.265625 45.40625 27.984375 \nz\nM 54.390625 6.78125 \nQ 54.390625 -7.171875 48.1875 -13.984375 \nQ 42 -20.796875 29.203125 -20.796875 \nQ 24.46875 -20.796875 20.265625 -20.09375 \nQ 16.0625 -19.390625 12.109375 -17.921875 \nL 12.109375 -9.1875 \nQ 16.0625 -11.328125 19.921875 -12.34375 \nQ 23.78125 -13.375 27.78125 -13.375 \nQ 36.625 -13.375 41.015625 -8.765625 \nQ 45.40625 -4.15625 45.40625 5.171875 \nL 45.40625 9.625 \nQ 42.625 4.78125 38.28125 2.390625 \nQ 33.9375 0 27.875 0 \nQ 17.828125 0 11.671875 7.65625 \nQ 5.515625 15.328125 5.515625 27.984375 \nQ 5.515625 40.671875 11.671875 48.328125 \nQ 17.828125 56 27.875 56 \nQ 33.9375 56 38.28125 53.609375 \nQ 42.625 51.21875 45.40625 46.390625 \nL 45.40625 54.6875 \nL 54.390625 54.6875 \nz\n\" id=\"DejaVuSans-103\"/>\n       <path d=\"M 34.28125 27.484375 \nQ 23.390625 27.484375 19.1875 25 \nQ 14.984375 22.515625 14.984375 16.5 \nQ 14.984375 11.71875 18.140625 8.90625 \nQ 21.296875 6.109375 26.703125 6.109375 \nQ 34.1875 6.109375 38.703125 11.40625 \nQ 43.21875 16.703125 43.21875 25.484375 \nL 43.21875 27.484375 \nz\nM 52.203125 31.203125 \nL 52.203125 0 \nL 43.21875 0 \nL 43.21875 8.296875 \nQ 40.140625 3.328125 35.546875 0.953125 \nQ 30.953125 -1.421875 24.3125 -1.421875 \nQ 15.921875 -1.421875 10.953125 3.296875 \nQ 6 8.015625 6 15.921875 \nQ 6 25.140625 12.171875 29.828125 \nQ 18.359375 34.515625 30.609375 34.515625 \nL 43.21875 34.515625 \nL 43.21875 35.40625 \nQ 43.21875 41.609375 39.140625 45 \nQ 35.0625 48.390625 27.6875 48.390625 \nQ 23 48.390625 18.546875 47.265625 \nQ 14.109375 46.140625 10.015625 43.890625 \nL 10.015625 52.203125 \nQ 14.9375 54.109375 19.578125 55.046875 \nQ 24.21875 56 28.609375 56 \nQ 40.484375 56 46.34375 49.84375 \nQ 52.203125 43.703125 52.203125 31.203125 \nz\n\" id=\"DejaVuSans-97\"/>\n       <path d=\"M 52 44.1875 \nQ 55.375 50.25 60.0625 53.125 \nQ 64.75 56 71.09375 56 \nQ 79.640625 56 84.28125 50.015625 \nQ 88.921875 44.046875 88.921875 33.015625 \nL 88.921875 0 \nL 79.890625 0 \nL 79.890625 32.71875 \nQ 79.890625 40.578125 77.09375 44.375 \nQ 74.3125 48.1875 68.609375 48.1875 \nQ 61.625 48.1875 57.5625 43.546875 \nQ 53.515625 38.921875 53.515625 30.90625 \nL 53.515625 0 \nL 44.484375 0 \nL 44.484375 32.71875 \nQ 44.484375 40.625 41.703125 44.40625 \nQ 38.921875 48.1875 33.109375 48.1875 \nQ 26.21875 48.1875 22.15625 43.53125 \nQ 18.109375 38.875 18.109375 30.90625 \nL 18.109375 0 \nL 9.078125 0 \nL 9.078125 54.6875 \nL 18.109375 54.6875 \nL 18.109375 46.1875 \nQ 21.1875 51.21875 25.484375 53.609375 \nQ 29.78125 56 35.6875 56 \nQ 41.65625 56 45.828125 52.96875 \nQ 50 49.953125 52 44.1875 \nz\n\" id=\"DejaVuSans-109\"/>\n       <path d=\"M 56.203125 29.59375 \nL 56.203125 25.203125 \nL 14.890625 25.203125 \nQ 15.484375 15.921875 20.484375 11.0625 \nQ 25.484375 6.203125 34.421875 6.203125 \nQ 39.59375 6.203125 44.453125 7.46875 \nQ 49.3125 8.734375 54.109375 11.28125 \nL 54.109375 2.78125 \nQ 49.265625 0.734375 44.1875 -0.34375 \nQ 39.109375 -1.421875 33.890625 -1.421875 \nQ 20.796875 -1.421875 13.15625 6.1875 \nQ 5.515625 13.8125 5.515625 26.8125 \nQ 5.515625 40.234375 12.765625 48.109375 \nQ 20.015625 56 32.328125 56 \nQ 43.359375 56 49.78125 48.890625 \nQ 56.203125 41.796875 56.203125 29.59375 \nz\nM 47.21875 32.234375 \nQ 47.125 39.59375 43.09375 43.984375 \nQ 39.0625 48.390625 32.421875 48.390625 \nQ 24.90625 48.390625 20.390625 44.140625 \nQ 15.875 39.890625 15.1875 32.171875 \nz\n\" id=\"DejaVuSans-101\"/>\n       <path d=\"M 50.984375 -16.609375 \nL 50.984375 -23.578125 \nL -0.984375 -23.578125 \nL -0.984375 -16.609375 \nz\n\" id=\"DejaVuSans-95\"/>\n       <path d=\"M 41.109375 46.296875 \nQ 39.59375 47.171875 37.8125 47.578125 \nQ 36.03125 48 33.890625 48 \nQ 26.265625 48 22.1875 43.046875 \nQ 18.109375 38.09375 18.109375 28.8125 \nL 18.109375 0 \nL 9.078125 0 \nL 9.078125 54.6875 \nL 18.109375 54.6875 \nL 18.109375 46.1875 \nQ 20.953125 51.171875 25.484375 53.578125 \nQ 30.03125 56 36.53125 56 \nQ 37.453125 56 38.578125 55.875 \nQ 39.703125 55.765625 41.0625 55.515625 \nz\n\" id=\"DejaVuSans-114\"/>\n       <path d=\"M 2.984375 54.6875 \nL 12.5 54.6875 \nL 29.59375 8.796875 \nL 46.6875 54.6875 \nL 56.203125 54.6875 \nL 35.6875 0 \nL 23.484375 0 \nz\n\" id=\"DejaVuSans-118\"/>\n       <path d=\"M 9.421875 54.6875 \nL 18.40625 54.6875 \nL 18.40625 0 \nL 9.421875 0 \nz\nM 9.421875 75.984375 \nL 18.40625 75.984375 \nL 18.40625 64.59375 \nL 9.421875 64.59375 \nz\n\" id=\"DejaVuSans-105\"/>\n       <path d=\"M 4.203125 54.6875 \nL 13.1875 54.6875 \nL 24.421875 12.015625 \nL 35.59375 54.6875 \nL 46.1875 54.6875 \nL 57.421875 12.015625 \nL 68.609375 54.6875 \nL 77.59375 54.6875 \nL 63.28125 0 \nL 52.6875 0 \nL 40.921875 44.828125 \nL 29.109375 0 \nL 18.5 0 \nz\n\" id=\"DejaVuSans-119\"/>\n       <path d=\"M 48.78125 52.59375 \nL 48.78125 44.1875 \nQ 44.96875 46.296875 41.140625 47.34375 \nQ 37.3125 48.390625 33.40625 48.390625 \nQ 24.65625 48.390625 19.8125 42.84375 \nQ 14.984375 37.3125 14.984375 27.296875 \nQ 14.984375 17.28125 19.8125 11.734375 \nQ 24.65625 6.203125 33.40625 6.203125 \nQ 37.3125 6.203125 41.140625 7.25 \nQ 44.96875 8.296875 48.78125 10.40625 \nL 48.78125 2.09375 \nQ 45.015625 0.34375 40.984375 -0.53125 \nQ 36.96875 -1.421875 32.421875 -1.421875 \nQ 20.0625 -1.421875 12.78125 6.34375 \nQ 5.515625 14.109375 5.515625 27.296875 \nQ 5.515625 40.671875 12.859375 48.328125 \nQ 20.21875 56 33.015625 56 \nQ 37.15625 56 41.109375 55.140625 \nQ 45.0625 54.296875 48.78125 52.59375 \nz\n\" id=\"DejaVuSans-99\"/>\n       <path d=\"M 30.609375 48.390625 \nQ 23.390625 48.390625 19.1875 42.75 \nQ 14.984375 37.109375 14.984375 27.296875 \nQ 14.984375 17.484375 19.15625 11.84375 \nQ 23.34375 6.203125 30.609375 6.203125 \nQ 37.796875 6.203125 41.984375 11.859375 \nQ 46.1875 17.53125 46.1875 27.296875 \nQ 46.1875 37.015625 41.984375 42.703125 \nQ 37.796875 48.390625 30.609375 48.390625 \nz\nM 30.609375 56 \nQ 42.328125 56 49.015625 48.375 \nQ 55.71875 40.765625 55.71875 27.296875 \nQ 55.71875 13.875 49.015625 6.21875 \nQ 42.328125 -1.421875 30.609375 -1.421875 \nQ 18.84375 -1.421875 12.171875 6.21875 \nQ 5.515625 13.875 5.515625 27.296875 \nQ 5.515625 40.765625 12.171875 48.375 \nQ 18.84375 56 30.609375 56 \nz\n\" id=\"DejaVuSans-111\"/>\n       <path d=\"M 8.5 21.578125 \nL 8.5 54.6875 \nL 17.484375 54.6875 \nL 17.484375 21.921875 \nQ 17.484375 14.15625 20.5 10.265625 \nQ 23.53125 6.390625 29.59375 6.390625 \nQ 36.859375 6.390625 41.078125 11.03125 \nQ 45.3125 15.671875 45.3125 23.6875 \nL 45.3125 54.6875 \nL 54.296875 54.6875 \nL 54.296875 0 \nL 45.3125 0 \nL 45.3125 8.40625 \nQ 42.046875 3.421875 37.71875 1 \nQ 33.40625 -1.421875 27.6875 -1.421875 \nQ 18.265625 -1.421875 13.375 4.4375 \nQ 8.5 10.296875 8.5 21.578125 \nz\nM 31.109375 56 \nz\n\" id=\"DejaVuSans-117\"/>\n       <path d=\"M 54.890625 33.015625 \nL 54.890625 0 \nL 45.90625 0 \nL 45.90625 32.71875 \nQ 45.90625 40.484375 42.875 44.328125 \nQ 39.84375 48.1875 33.796875 48.1875 \nQ 26.515625 48.1875 22.3125 43.546875 \nQ 18.109375 38.921875 18.109375 30.90625 \nL 18.109375 0 \nL 9.078125 0 \nL 9.078125 54.6875 \nL 18.109375 54.6875 \nL 18.109375 46.1875 \nQ 21.34375 51.125 25.703125 53.5625 \nQ 30.078125 56 35.796875 56 \nQ 45.21875 56 50.046875 50.171875 \nQ 54.890625 44.34375 54.890625 33.015625 \nz\n\" id=\"DejaVuSans-110\"/>\n       <path d=\"M 18.3125 70.21875 \nL 18.3125 54.6875 \nL 36.8125 54.6875 \nL 36.8125 47.703125 \nL 18.3125 47.703125 \nL 18.3125 18.015625 \nQ 18.3125 11.328125 20.140625 9.421875 \nQ 21.96875 7.515625 27.59375 7.515625 \nL 36.8125 7.515625 \nL 36.8125 0 \nL 27.59375 0 \nQ 17.1875 0 13.234375 3.875 \nQ 9.28125 7.765625 9.28125 18.015625 \nL 9.28125 47.703125 \nL 2.6875 47.703125 \nL 2.6875 54.6875 \nL 9.28125 54.6875 \nL 9.28125 70.21875 \nz\n\" id=\"DejaVuSans-116\"/>\n      </defs>\n      <g transform=\"translate(58.214062 220.076142)scale(0.1 -0.1)\">\n       <use xlink:href=\"#DejaVuSans-103\"/>\n       <use x=\"63.476562\" xlink:href=\"#DejaVuSans-97\"/>\n       <use x=\"124.755859\" xlink:href=\"#DejaVuSans-109\"/>\n       <use x=\"222.167969\" xlink:href=\"#DejaVuSans-101\"/>\n       <use x=\"283.691406\" xlink:href=\"#DejaVuSans-95\"/>\n       <use x=\"333.691406\" xlink:href=\"#DejaVuSans-95\"/>\n       <use x=\"383.691406\" xlink:href=\"#DejaVuSans-114\"/>\n       <use x=\"424.773438\" xlink:href=\"#DejaVuSans-101\"/>\n       <use x=\"486.296875\" xlink:href=\"#DejaVuSans-118\"/>\n       <use x=\"545.476562\" xlink:href=\"#DejaVuSans-105\"/>\n       <use x=\"573.259766\" xlink:href=\"#DejaVuSans-101\"/>\n       <use x=\"634.783203\" xlink:href=\"#DejaVuSans-119\"/>\n       <use x=\"716.570312\" xlink:href=\"#DejaVuSans-95\"/>\n       <use x=\"766.570312\" xlink:href=\"#DejaVuSans-95\"/>\n       <use x=\"816.570312\" xlink:href=\"#DejaVuSans-99\"/>\n       <use x=\"871.550781\" xlink:href=\"#DejaVuSans-111\"/>\n       <use x=\"932.732422\" xlink:href=\"#DejaVuSans-117\"/>\n       <use x=\"996.111328\" xlink:href=\"#DejaVuSans-110\"/>\n       <use x=\"1059.490234\" xlink:href=\"#DejaVuSans-116\"/>\n      </g>\n     </g>\n    </g>\n    <g id=\"ytick_2\">\n     <g id=\"line2d_9\">\n      <g>\n       <use style=\"stroke:#000000;stroke-width:0.8;\" x=\"175.085938\" xlink:href=\"#m309c831f2d\" y=\"199.550769\"/>\n      </g>\n     </g>\n     <g id=\"text_9\">\n      <!-- game__desc_nlp__card -->\n      <defs>\n       <path d=\"M 45.40625 46.390625 \nL 45.40625 75.984375 \nL 54.390625 75.984375 \nL 54.390625 0 \nL 45.40625 0 \nL 45.40625 8.203125 \nQ 42.578125 3.328125 38.25 0.953125 \nQ 33.9375 -1.421875 27.875 -1.421875 \nQ 17.96875 -1.421875 11.734375 6.484375 \nQ 5.515625 14.40625 5.515625 27.296875 \nQ 5.515625 40.1875 11.734375 48.09375 \nQ 17.96875 56 27.875 56 \nQ 33.9375 56 38.25 53.625 \nQ 42.578125 51.265625 45.40625 46.390625 \nz\nM 14.796875 27.296875 \nQ 14.796875 17.390625 18.875 11.75 \nQ 22.953125 6.109375 30.078125 6.109375 \nQ 37.203125 6.109375 41.296875 11.75 \nQ 45.40625 17.390625 45.40625 27.296875 \nQ 45.40625 37.203125 41.296875 42.84375 \nQ 37.203125 48.484375 30.078125 48.484375 \nQ 22.953125 48.484375 18.875 42.84375 \nQ 14.796875 37.203125 14.796875 27.296875 \nz\n\" id=\"DejaVuSans-100\"/>\n       <path d=\"M 44.28125 53.078125 \nL 44.28125 44.578125 \nQ 40.484375 46.53125 36.375 47.5 \nQ 32.28125 48.484375 27.875 48.484375 \nQ 21.1875 48.484375 17.84375 46.4375 \nQ 14.5 44.390625 14.5 40.28125 \nQ 14.5 37.15625 16.890625 35.375 \nQ 19.28125 33.59375 26.515625 31.984375 \nL 29.59375 31.296875 \nQ 39.15625 29.25 43.1875 25.515625 \nQ 47.21875 21.78125 47.21875 15.09375 \nQ 47.21875 7.46875 41.1875 3.015625 \nQ 35.15625 -1.421875 24.609375 -1.421875 \nQ 20.21875 -1.421875 15.453125 -0.5625 \nQ 10.6875 0.296875 5.421875 2 \nL 5.421875 11.28125 \nQ 10.40625 8.6875 15.234375 7.390625 \nQ 20.0625 6.109375 24.8125 6.109375 \nQ 31.15625 6.109375 34.5625 8.28125 \nQ 37.984375 10.453125 37.984375 14.40625 \nQ 37.984375 18.0625 35.515625 20.015625 \nQ 33.0625 21.96875 24.703125 23.78125 \nL 21.578125 24.515625 \nQ 13.234375 26.265625 9.515625 29.90625 \nQ 5.8125 33.546875 5.8125 39.890625 \nQ 5.8125 47.609375 11.28125 51.796875 \nQ 16.75 56 26.8125 56 \nQ 31.78125 56 36.171875 55.265625 \nQ 40.578125 54.546875 44.28125 53.078125 \nz\n\" id=\"DejaVuSans-115\"/>\n       <path d=\"M 9.421875 75.984375 \nL 18.40625 75.984375 \nL 18.40625 0 \nL 9.421875 0 \nz\n\" id=\"DejaVuSans-108\"/>\n       <path d=\"M 18.109375 8.203125 \nL 18.109375 -20.796875 \nL 9.078125 -20.796875 \nL 9.078125 54.6875 \nL 18.109375 54.6875 \nL 18.109375 46.390625 \nQ 20.953125 51.265625 25.265625 53.625 \nQ 29.59375 56 35.59375 56 \nQ 45.5625 56 51.78125 48.09375 \nQ 58.015625 40.1875 58.015625 27.296875 \nQ 58.015625 14.40625 51.78125 6.484375 \nQ 45.5625 -1.421875 35.59375 -1.421875 \nQ 29.59375 -1.421875 25.265625 0.953125 \nQ 20.953125 3.328125 18.109375 8.203125 \nz\nM 48.6875 27.296875 \nQ 48.6875 37.203125 44.609375 42.84375 \nQ 40.53125 48.484375 33.40625 48.484375 \nQ 26.265625 48.484375 22.1875 42.84375 \nQ 18.109375 37.203125 18.109375 27.296875 \nQ 18.109375 17.390625 22.1875 11.75 \nQ 26.265625 6.109375 33.40625 6.109375 \nQ 40.53125 6.109375 44.609375 11.75 \nQ 48.6875 17.390625 48.6875 27.296875 \nz\n\" id=\"DejaVuSans-112\"/>\n      </defs>\n      <g transform=\"translate(53.957812 203.349988)scale(0.1 -0.1)\">\n       <use xlink:href=\"#DejaVuSans-103\"/>\n       <use x=\"63.476562\" xlink:href=\"#DejaVuSans-97\"/>\n       <use x=\"124.755859\" xlink:href=\"#DejaVuSans-109\"/>\n       <use x=\"222.167969\" xlink:href=\"#DejaVuSans-101\"/>\n       <use x=\"283.691406\" xlink:href=\"#DejaVuSans-95\"/>\n       <use x=\"333.691406\" xlink:href=\"#DejaVuSans-95\"/>\n       <use x=\"383.691406\" xlink:href=\"#DejaVuSans-100\"/>\n       <use x=\"447.167969\" xlink:href=\"#DejaVuSans-101\"/>\n       <use x=\"508.691406\" xlink:href=\"#DejaVuSans-115\"/>\n       <use x=\"560.791016\" xlink:href=\"#DejaVuSans-99\"/>\n       <use x=\"615.771484\" xlink:href=\"#DejaVuSans-95\"/>\n       <use x=\"665.771484\" xlink:href=\"#DejaVuSans-110\"/>\n       <use x=\"729.150391\" xlink:href=\"#DejaVuSans-108\"/>\n       <use x=\"756.933594\" xlink:href=\"#DejaVuSans-112\"/>\n       <use x=\"820.410156\" xlink:href=\"#DejaVuSans-95\"/>\n       <use x=\"870.410156\" xlink:href=\"#DejaVuSans-95\"/>\n       <use x=\"920.410156\" xlink:href=\"#DejaVuSans-99\"/>\n       <use x=\"975.390625\" xlink:href=\"#DejaVuSans-97\"/>\n       <use x=\"1036.669922\" xlink:href=\"#DejaVuSans-114\"/>\n       <use x=\"1077.767578\" xlink:href=\"#DejaVuSans-100\"/>\n      </g>\n     </g>\n    </g>\n    <g id=\"ytick_3\">\n     <g id=\"line2d_10\">\n      <g>\n       <use style=\"stroke:#000000;stroke-width:0.8;\" x=\"175.085938\" xlink:href=\"#m309c831f2d\" y=\"182.824615\"/>\n      </g>\n     </g>\n     <g id=\"text_10\">\n      <!-- user_reviews__count -->\n      <g transform=\"translate(64.564062 186.623834)scale(0.1 -0.1)\">\n       <use xlink:href=\"#DejaVuSans-117\"/>\n       <use x=\"63.378906\" xlink:href=\"#DejaVuSans-115\"/>\n       <use x=\"115.478516\" xlink:href=\"#DejaVuSans-101\"/>\n       <use x=\"177.001953\" xlink:href=\"#DejaVuSans-114\"/>\n       <use x=\"218.115234\" xlink:href=\"#DejaVuSans-95\"/>\n       <use x=\"268.115234\" xlink:href=\"#DejaVuSans-114\"/>\n       <use x=\"309.197266\" xlink:href=\"#DejaVuSans-101\"/>\n       <use x=\"370.720703\" xlink:href=\"#DejaVuSans-118\"/>\n       <use x=\"429.900391\" xlink:href=\"#DejaVuSans-105\"/>\n       <use x=\"457.683594\" xlink:href=\"#DejaVuSans-101\"/>\n       <use x=\"519.207031\" xlink:href=\"#DejaVuSans-119\"/>\n       <use x=\"600.994141\" xlink:href=\"#DejaVuSans-115\"/>\n       <use x=\"653.09375\" xlink:href=\"#DejaVuSans-95\"/>\n       <use x=\"703.09375\" xlink:href=\"#DejaVuSans-95\"/>\n       <use x=\"753.09375\" xlink:href=\"#DejaVuSans-99\"/>\n       <use x=\"808.074219\" xlink:href=\"#DejaVuSans-111\"/>\n       <use x=\"869.255859\" xlink:href=\"#DejaVuSans-117\"/>\n       <use x=\"932.634766\" xlink:href=\"#DejaVuSans-110\"/>\n       <use x=\"996.013672\" xlink:href=\"#DejaVuSans-116\"/>\n      </g>\n     </g>\n    </g>\n    <g id=\"ytick_4\">\n     <g id=\"line2d_11\">\n      <g>\n       <use style=\"stroke:#000000;stroke-width:0.8;\" x=\"175.085938\" xlink:href=\"#m309c831f2d\" y=\"166.098462\"/>\n      </g>\n     </g>\n     <g id=\"text_11\">\n      <!-- mean__players__multiplayers -->\n      <defs>\n       <path d=\"M 32.171875 -5.078125 \nQ 28.375 -14.84375 24.75 -17.8125 \nQ 21.140625 -20.796875 15.09375 -20.796875 \nL 7.90625 -20.796875 \nL 7.90625 -13.28125 \nL 13.1875 -13.28125 \nQ 16.890625 -13.28125 18.9375 -11.515625 \nQ 21 -9.765625 23.484375 -3.21875 \nL 25.09375 0.875 \nL 2.984375 54.6875 \nL 12.5 54.6875 \nL 29.59375 11.921875 \nL 46.6875 54.6875 \nL 56.203125 54.6875 \nz\n\" id=\"DejaVuSans-121\"/>\n      </defs>\n      <g transform=\"translate(20.878125 169.89768)scale(0.1 -0.1)\">\n       <use xlink:href=\"#DejaVuSans-109\"/>\n       <use x=\"97.412109\" xlink:href=\"#DejaVuSans-101\"/>\n       <use x=\"158.935547\" xlink:href=\"#DejaVuSans-97\"/>\n       <use x=\"220.214844\" xlink:href=\"#DejaVuSans-110\"/>\n       <use x=\"283.59375\" xlink:href=\"#DejaVuSans-95\"/>\n       <use x=\"333.59375\" xlink:href=\"#DejaVuSans-95\"/>\n       <use x=\"383.59375\" xlink:href=\"#DejaVuSans-112\"/>\n       <use x=\"447.070312\" xlink:href=\"#DejaVuSans-108\"/>\n       <use x=\"474.853516\" xlink:href=\"#DejaVuSans-97\"/>\n       <use x=\"536.132812\" xlink:href=\"#DejaVuSans-121\"/>\n       <use x=\"595.3125\" xlink:href=\"#DejaVuSans-101\"/>\n       <use x=\"656.835938\" xlink:href=\"#DejaVuSans-114\"/>\n       <use x=\"697.949219\" xlink:href=\"#DejaVuSans-115\"/>\n       <use x=\"750.048828\" xlink:href=\"#DejaVuSans-95\"/>\n       <use x=\"800.048828\" xlink:href=\"#DejaVuSans-95\"/>\n       <use x=\"850.048828\" xlink:href=\"#DejaVuSans-109\"/>\n       <use x=\"947.460938\" xlink:href=\"#DejaVuSans-117\"/>\n       <use x=\"1010.839844\" xlink:href=\"#DejaVuSans-108\"/>\n       <use x=\"1038.623047\" xlink:href=\"#DejaVuSans-116\"/>\n       <use x=\"1077.832031\" xlink:href=\"#DejaVuSans-105\"/>\n       <use x=\"1105.615234\" xlink:href=\"#DejaVuSans-112\"/>\n       <use x=\"1169.091797\" xlink:href=\"#DejaVuSans-108\"/>\n       <use x=\"1196.875\" xlink:href=\"#DejaVuSans-97\"/>\n       <use x=\"1258.154297\" xlink:href=\"#DejaVuSans-121\"/>\n       <use x=\"1317.333984\" xlink:href=\"#DejaVuSans-101\"/>\n       <use x=\"1378.857422\" xlink:href=\"#DejaVuSans-114\"/>\n       <use x=\"1419.970703\" xlink:href=\"#DejaVuSans-115\"/>\n      </g>\n     </g>\n    </g>\n    <g id=\"ytick_5\">\n     <g id=\"line2d_12\">\n      <g>\n       <use style=\"stroke:#000000;stroke-width:0.8;\" x=\"175.085938\" xlink:href=\"#m309c831f2d\" y=\"149.372308\"/>\n      </g>\n     </g>\n     <g id=\"text_12\">\n      <!-- game__desc_nlp__game -->\n      <g transform=\"translate(47.671875 153.171526)scale(0.1 -0.1)\">\n       <use xlink:href=\"#DejaVuSans-103\"/>\n       <use x=\"63.476562\" xlink:href=\"#DejaVuSans-97\"/>\n       <use x=\"124.755859\" xlink:href=\"#DejaVuSans-109\"/>\n       <use x=\"222.167969\" xlink:href=\"#DejaVuSans-101\"/>\n       <use x=\"283.691406\" xlink:href=\"#DejaVuSans-95\"/>\n       <use x=\"333.691406\" xlink:href=\"#DejaVuSans-95\"/>\n       <use x=\"383.691406\" xlink:href=\"#DejaVuSans-100\"/>\n       <use x=\"447.167969\" xlink:href=\"#DejaVuSans-101\"/>\n       <use x=\"508.691406\" xlink:href=\"#DejaVuSans-115\"/>\n       <use x=\"560.791016\" xlink:href=\"#DejaVuSans-99\"/>\n       <use x=\"615.771484\" xlink:href=\"#DejaVuSans-95\"/>\n       <use x=\"665.771484\" xlink:href=\"#DejaVuSans-110\"/>\n       <use x=\"729.150391\" xlink:href=\"#DejaVuSans-108\"/>\n       <use x=\"756.933594\" xlink:href=\"#DejaVuSans-112\"/>\n       <use x=\"820.410156\" xlink:href=\"#DejaVuSans-95\"/>\n       <use x=\"870.410156\" xlink:href=\"#DejaVuSans-95\"/>\n       <use x=\"920.410156\" xlink:href=\"#DejaVuSans-103\"/>\n       <use x=\"983.886719\" xlink:href=\"#DejaVuSans-97\"/>\n       <use x=\"1045.166016\" xlink:href=\"#DejaVuSans-109\"/>\n       <use x=\"1142.578125\" xlink:href=\"#DejaVuSans-101\"/>\n      </g>\n     </g>\n    </g>\n    <g id=\"ytick_6\">\n     <g id=\"line2d_13\">\n      <g>\n       <use style=\"stroke:#000000;stroke-width:0.8;\" x=\"175.085938\" xlink:href=\"#m309c831f2d\" y=\"132.646154\"/>\n      </g>\n     </g>\n     <g id=\"text_13\">\n      <!-- game__review__mean -->\n      <g transform=\"translate(58.067187 136.445373)scale(0.1 -0.1)\">\n       <use xlink:href=\"#DejaVuSans-103\"/>\n       <use x=\"63.476562\" xlink:href=\"#DejaVuSans-97\"/>\n       <use x=\"124.755859\" xlink:href=\"#DejaVuSans-109\"/>\n       <use x=\"222.167969\" xlink:href=\"#DejaVuSans-101\"/>\n       <use x=\"283.691406\" xlink:href=\"#DejaVuSans-95\"/>\n       <use x=\"333.691406\" xlink:href=\"#DejaVuSans-95\"/>\n       <use x=\"383.691406\" xlink:href=\"#DejaVuSans-114\"/>\n       <use x=\"424.773438\" xlink:href=\"#DejaVuSans-101\"/>\n       <use x=\"486.296875\" xlink:href=\"#DejaVuSans-118\"/>\n       <use x=\"545.476562\" xlink:href=\"#DejaVuSans-105\"/>\n       <use x=\"573.259766\" xlink:href=\"#DejaVuSans-101\"/>\n       <use x=\"634.783203\" xlink:href=\"#DejaVuSans-119\"/>\n       <use x=\"716.570312\" xlink:href=\"#DejaVuSans-95\"/>\n       <use x=\"766.570312\" xlink:href=\"#DejaVuSans-95\"/>\n       <use x=\"816.570312\" xlink:href=\"#DejaVuSans-109\"/>\n       <use x=\"913.982422\" xlink:href=\"#DejaVuSans-101\"/>\n       <use x=\"975.505859\" xlink:href=\"#DejaVuSans-97\"/>\n       <use x=\"1036.785156\" xlink:href=\"#DejaVuSans-110\"/>\n      </g>\n     </g>\n    </g>\n    <g id=\"ytick_7\">\n     <g id=\"line2d_14\">\n      <g>\n       <use style=\"stroke:#000000;stroke-width:0.8;\" x=\"175.085938\" xlink:href=\"#m309c831f2d\" y=\"115.92\"/>\n      </g>\n     </g>\n     <g id=\"text_14\">\n      <!-- game__weight__1.01-1.5 -->\n      <defs>\n       <path d=\"M 54.890625 33.015625 \nL 54.890625 0 \nL 45.90625 0 \nL 45.90625 32.71875 \nQ 45.90625 40.484375 42.875 44.328125 \nQ 39.84375 48.1875 33.796875 48.1875 \nQ 26.515625 48.1875 22.3125 43.546875 \nQ 18.109375 38.921875 18.109375 30.90625 \nL 18.109375 0 \nL 9.078125 0 \nL 9.078125 75.984375 \nL 18.109375 75.984375 \nL 18.109375 46.1875 \nQ 21.34375 51.125 25.703125 53.5625 \nQ 30.078125 56 35.796875 56 \nQ 45.21875 56 50.046875 50.171875 \nQ 54.890625 44.34375 54.890625 33.015625 \nz\n\" id=\"DejaVuSans-104\"/>\n       <path d=\"M 10.6875 12.40625 \nL 21 12.40625 \nL 21 0 \nL 10.6875 0 \nz\n\" id=\"DejaVuSans-46\"/>\n       <path d=\"M 4.890625 31.390625 \nL 31.203125 31.390625 \nL 31.203125 23.390625 \nL 4.890625 23.390625 \nz\n\" id=\"DejaVuSans-45\"/>\n      </defs>\n      <g transform=\"translate(44.223437 119.719219)scale(0.1 -0.1)\">\n       <use xlink:href=\"#DejaVuSans-103\"/>\n       <use x=\"63.476562\" xlink:href=\"#DejaVuSans-97\"/>\n       <use x=\"124.755859\" xlink:href=\"#DejaVuSans-109\"/>\n       <use x=\"222.167969\" xlink:href=\"#DejaVuSans-101\"/>\n       <use x=\"283.691406\" xlink:href=\"#DejaVuSans-95\"/>\n       <use x=\"333.691406\" xlink:href=\"#DejaVuSans-95\"/>\n       <use x=\"383.691406\" xlink:href=\"#DejaVuSans-119\"/>\n       <use x=\"465.478516\" xlink:href=\"#DejaVuSans-101\"/>\n       <use x=\"527.001953\" xlink:href=\"#DejaVuSans-105\"/>\n       <use x=\"554.785156\" xlink:href=\"#DejaVuSans-103\"/>\n       <use x=\"618.261719\" xlink:href=\"#DejaVuSans-104\"/>\n       <use x=\"681.640625\" xlink:href=\"#DejaVuSans-116\"/>\n       <use x=\"720.849609\" xlink:href=\"#DejaVuSans-95\"/>\n       <use x=\"770.849609\" xlink:href=\"#DejaVuSans-95\"/>\n       <use x=\"820.849609\" xlink:href=\"#DejaVuSans-49\"/>\n       <use x=\"884.472656\" xlink:href=\"#DejaVuSans-46\"/>\n       <use x=\"916.259766\" xlink:href=\"#DejaVuSans-48\"/>\n       <use x=\"979.882812\" xlink:href=\"#DejaVuSans-49\"/>\n       <use x=\"1043.505859\" xlink:href=\"#DejaVuSans-45\"/>\n       <use x=\"1079.589844\" xlink:href=\"#DejaVuSans-49\"/>\n       <use x=\"1143.212891\" xlink:href=\"#DejaVuSans-46\"/>\n       <use x=\"1175\" xlink:href=\"#DejaVuSans-53\"/>\n      </g>\n     </g>\n    </g>\n    <g id=\"ytick_8\">\n     <g id=\"line2d_15\">\n      <g>\n       <use style=\"stroke:#000000;stroke-width:0.8;\" x=\"175.085938\" xlink:href=\"#m309c831f2d\" y=\"99.193846\"/>\n      </g>\n     </g>\n     <g id=\"text_15\">\n      <!-- game__desc_nlp__play -->\n      <g transform=\"translate(54.86875 102.993065)scale(0.1 -0.1)\">\n       <use xlink:href=\"#DejaVuSans-103\"/>\n       <use x=\"63.476562\" xlink:href=\"#DejaVuSans-97\"/>\n       <use x=\"124.755859\" xlink:href=\"#DejaVuSans-109\"/>\n       <use x=\"222.167969\" xlink:href=\"#DejaVuSans-101\"/>\n       <use x=\"283.691406\" xlink:href=\"#DejaVuSans-95\"/>\n       <use x=\"333.691406\" xlink:href=\"#DejaVuSans-95\"/>\n       <use x=\"383.691406\" xlink:href=\"#DejaVuSans-100\"/>\n       <use x=\"447.167969\" xlink:href=\"#DejaVuSans-101\"/>\n       <use x=\"508.691406\" xlink:href=\"#DejaVuSans-115\"/>\n       <use x=\"560.791016\" xlink:href=\"#DejaVuSans-99\"/>\n       <use x=\"615.771484\" xlink:href=\"#DejaVuSans-95\"/>\n       <use x=\"665.771484\" xlink:href=\"#DejaVuSans-110\"/>\n       <use x=\"729.150391\" xlink:href=\"#DejaVuSans-108\"/>\n       <use x=\"756.933594\" xlink:href=\"#DejaVuSans-112\"/>\n       <use x=\"820.410156\" xlink:href=\"#DejaVuSans-95\"/>\n       <use x=\"870.410156\" xlink:href=\"#DejaVuSans-95\"/>\n       <use x=\"920.410156\" xlink:href=\"#DejaVuSans-112\"/>\n       <use x=\"983.886719\" xlink:href=\"#DejaVuSans-108\"/>\n       <use x=\"1011.669922\" xlink:href=\"#DejaVuSans-97\"/>\n       <use x=\"1072.949219\" xlink:href=\"#DejaVuSans-121\"/>\n      </g>\n     </g>\n    </g>\n    <g id=\"ytick_9\">\n     <g id=\"line2d_16\">\n      <g>\n       <use style=\"stroke:#000000;stroke-width:0.8;\" x=\"175.085938\" xlink:href=\"#m309c831f2d\" y=\"82.467692\"/>\n      </g>\n     </g>\n     <g id=\"text_16\">\n      <!-- game__desc_nlp__number -->\n      <defs>\n       <path d=\"M 48.6875 27.296875 \nQ 48.6875 37.203125 44.609375 42.84375 \nQ 40.53125 48.484375 33.40625 48.484375 \nQ 26.265625 48.484375 22.1875 42.84375 \nQ 18.109375 37.203125 18.109375 27.296875 \nQ 18.109375 17.390625 22.1875 11.75 \nQ 26.265625 6.109375 33.40625 6.109375 \nQ 40.53125 6.109375 44.609375 11.75 \nQ 48.6875 17.390625 48.6875 27.296875 \nz\nM 18.109375 46.390625 \nQ 20.953125 51.265625 25.265625 53.625 \nQ 29.59375 56 35.59375 56 \nQ 45.5625 56 51.78125 48.09375 \nQ 58.015625 40.1875 58.015625 27.296875 \nQ 58.015625 14.40625 51.78125 6.484375 \nQ 45.5625 -1.421875 35.59375 -1.421875 \nQ 29.59375 -1.421875 25.265625 0.953125 \nQ 20.953125 3.328125 18.109375 8.203125 \nL 18.109375 0 \nL 9.078125 0 \nL 9.078125 75.984375 \nL 18.109375 75.984375 \nz\n\" id=\"DejaVuSans-98\"/>\n      </defs>\n      <g transform=\"translate(37.014062 86.266911)scale(0.1 -0.1)\">\n       <use xlink:href=\"#DejaVuSans-103\"/>\n       <use x=\"63.476562\" xlink:href=\"#DejaVuSans-97\"/>\n       <use x=\"124.755859\" xlink:href=\"#DejaVuSans-109\"/>\n       <use x=\"222.167969\" xlink:href=\"#DejaVuSans-101\"/>\n       <use x=\"283.691406\" xlink:href=\"#DejaVuSans-95\"/>\n       <use x=\"333.691406\" xlink:href=\"#DejaVuSans-95\"/>\n       <use x=\"383.691406\" xlink:href=\"#DejaVuSans-100\"/>\n       <use x=\"447.167969\" xlink:href=\"#DejaVuSans-101\"/>\n       <use x=\"508.691406\" xlink:href=\"#DejaVuSans-115\"/>\n       <use x=\"560.791016\" xlink:href=\"#DejaVuSans-99\"/>\n       <use x=\"615.771484\" xlink:href=\"#DejaVuSans-95\"/>\n       <use x=\"665.771484\" xlink:href=\"#DejaVuSans-110\"/>\n       <use x=\"729.150391\" xlink:href=\"#DejaVuSans-108\"/>\n       <use x=\"756.933594\" xlink:href=\"#DejaVuSans-112\"/>\n       <use x=\"820.410156\" xlink:href=\"#DejaVuSans-95\"/>\n       <use x=\"870.410156\" xlink:href=\"#DejaVuSans-95\"/>\n       <use x=\"920.410156\" xlink:href=\"#DejaVuSans-110\"/>\n       <use x=\"983.789062\" xlink:href=\"#DejaVuSans-117\"/>\n       <use x=\"1047.167969\" xlink:href=\"#DejaVuSans-109\"/>\n       <use x=\"1144.580078\" xlink:href=\"#DejaVuSans-98\"/>\n       <use x=\"1208.056641\" xlink:href=\"#DejaVuSans-101\"/>\n       <use x=\"1269.580078\" xlink:href=\"#DejaVuSans-114\"/>\n      </g>\n     </g>\n    </g>\n    <g id=\"ytick_10\">\n     <g id=\"line2d_17\">\n      <g>\n       <use style=\"stroke:#000000;stroke-width:0.8;\" x=\"175.085938\" xlink:href=\"#m309c831f2d\" y=\"65.741538\"/>\n      </g>\n     </g>\n     <g id=\"text_17\">\n      <!-- game__desc_nlp__player -->\n      <g transform=\"translate(44.604687 69.540757)scale(0.1 -0.1)\">\n       <use xlink:href=\"#DejaVuSans-103\"/>\n       <use x=\"63.476562\" xlink:href=\"#DejaVuSans-97\"/>\n       <use x=\"124.755859\" xlink:href=\"#DejaVuSans-109\"/>\n       <use x=\"222.167969\" xlink:href=\"#DejaVuSans-101\"/>\n       <use x=\"283.691406\" xlink:href=\"#DejaVuSans-95\"/>\n       <use x=\"333.691406\" xlink:href=\"#DejaVuSans-95\"/>\n       <use x=\"383.691406\" xlink:href=\"#DejaVuSans-100\"/>\n       <use x=\"447.167969\" xlink:href=\"#DejaVuSans-101\"/>\n       <use x=\"508.691406\" xlink:href=\"#DejaVuSans-115\"/>\n       <use x=\"560.791016\" xlink:href=\"#DejaVuSans-99\"/>\n       <use x=\"615.771484\" xlink:href=\"#DejaVuSans-95\"/>\n       <use x=\"665.771484\" xlink:href=\"#DejaVuSans-110\"/>\n       <use x=\"729.150391\" xlink:href=\"#DejaVuSans-108\"/>\n       <use x=\"756.933594\" xlink:href=\"#DejaVuSans-112\"/>\n       <use x=\"820.410156\" xlink:href=\"#DejaVuSans-95\"/>\n       <use x=\"870.410156\" xlink:href=\"#DejaVuSans-95\"/>\n       <use x=\"920.410156\" xlink:href=\"#DejaVuSans-112\"/>\n       <use x=\"983.886719\" xlink:href=\"#DejaVuSans-108\"/>\n       <use x=\"1011.669922\" xlink:href=\"#DejaVuSans-97\"/>\n       <use x=\"1072.949219\" xlink:href=\"#DejaVuSans-121\"/>\n       <use x=\"1132.128906\" xlink:href=\"#DejaVuSans-101\"/>\n       <use x=\"1193.652344\" xlink:href=\"#DejaVuSans-114\"/>\n      </g>\n     </g>\n    </g>\n    <g id=\"ytick_11\">\n     <g id=\"line2d_18\">\n      <g>\n       <use style=\"stroke:#000000;stroke-width:0.8;\" x=\"175.085938\" xlink:href=\"#m309c831f2d\" y=\"49.015385\"/>\n      </g>\n     </g>\n     <g id=\"text_18\">\n      <!-- game__desc_nlp__also -->\n      <g transform=\"translate(55.807812 52.814603)scale(0.1 -0.1)\">\n       <use xlink:href=\"#DejaVuSans-103\"/>\n       <use x=\"63.476562\" xlink:href=\"#DejaVuSans-97\"/>\n       <use x=\"124.755859\" xlink:href=\"#DejaVuSans-109\"/>\n       <use x=\"222.167969\" xlink:href=\"#DejaVuSans-101\"/>\n       <use x=\"283.691406\" xlink:href=\"#DejaVuSans-95\"/>\n       <use x=\"333.691406\" xlink:href=\"#DejaVuSans-95\"/>\n       <use x=\"383.691406\" xlink:href=\"#DejaVuSans-100\"/>\n       <use x=\"447.167969\" xlink:href=\"#DejaVuSans-101\"/>\n       <use x=\"508.691406\" xlink:href=\"#DejaVuSans-115\"/>\n       <use x=\"560.791016\" xlink:href=\"#DejaVuSans-99\"/>\n       <use x=\"615.771484\" xlink:href=\"#DejaVuSans-95\"/>\n       <use x=\"665.771484\" xlink:href=\"#DejaVuSans-110\"/>\n       <use x=\"729.150391\" xlink:href=\"#DejaVuSans-108\"/>\n       <use x=\"756.933594\" xlink:href=\"#DejaVuSans-112\"/>\n       <use x=\"820.410156\" xlink:href=\"#DejaVuSans-95\"/>\n       <use x=\"870.410156\" xlink:href=\"#DejaVuSans-95\"/>\n       <use x=\"920.410156\" xlink:href=\"#DejaVuSans-97\"/>\n       <use x=\"981.689453\" xlink:href=\"#DejaVuSans-108\"/>\n       <use x=\"1009.472656\" xlink:href=\"#DejaVuSans-115\"/>\n       <use x=\"1061.572266\" xlink:href=\"#DejaVuSans-111\"/>\n      </g>\n     </g>\n    </g>\n    <g id=\"ytick_12\">\n     <g id=\"line2d_19\">\n      <g>\n       <use style=\"stroke:#000000;stroke-width:0.8;\" x=\"175.085938\" xlink:href=\"#m309c831f2d\" y=\"32.289231\"/>\n      </g>\n     </g>\n     <g id=\"text_19\">\n      <!-- game__desc_nlp__quot -->\n      <defs>\n       <path d=\"M 14.796875 27.296875 \nQ 14.796875 17.390625 18.875 11.75 \nQ 22.953125 6.109375 30.078125 6.109375 \nQ 37.203125 6.109375 41.296875 11.75 \nQ 45.40625 17.390625 45.40625 27.296875 \nQ 45.40625 37.203125 41.296875 42.84375 \nQ 37.203125 48.484375 30.078125 48.484375 \nQ 22.953125 48.484375 18.875 42.84375 \nQ 14.796875 37.203125 14.796875 27.296875 \nz\nM 45.40625 8.203125 \nQ 42.578125 3.328125 38.25 0.953125 \nQ 33.9375 -1.421875 27.875 -1.421875 \nQ 17.96875 -1.421875 11.734375 6.484375 \nQ 5.515625 14.40625 5.515625 27.296875 \nQ 5.515625 40.1875 11.734375 48.09375 \nQ 17.96875 56 27.875 56 \nQ 33.9375 56 38.25 53.625 \nQ 42.578125 51.265625 45.40625 46.390625 \nL 45.40625 54.6875 \nL 54.390625 54.6875 \nL 54.390625 -20.796875 \nL 45.40625 -20.796875 \nz\n\" id=\"DejaVuSans-113\"/>\n      </defs>\n      <g transform=\"translate(53.317187 36.08845)scale(0.1 -0.1)\">\n       <use xlink:href=\"#DejaVuSans-103\"/>\n       <use x=\"63.476562\" xlink:href=\"#DejaVuSans-97\"/>\n       <use x=\"124.755859\" xlink:href=\"#DejaVuSans-109\"/>\n       <use x=\"222.167969\" xlink:href=\"#DejaVuSans-101\"/>\n       <use x=\"283.691406\" xlink:href=\"#DejaVuSans-95\"/>\n       <use x=\"333.691406\" xlink:href=\"#DejaVuSans-95\"/>\n       <use x=\"383.691406\" xlink:href=\"#DejaVuSans-100\"/>\n       <use x=\"447.167969\" xlink:href=\"#DejaVuSans-101\"/>\n       <use x=\"508.691406\" xlink:href=\"#DejaVuSans-115\"/>\n       <use x=\"560.791016\" xlink:href=\"#DejaVuSans-99\"/>\n       <use x=\"615.771484\" xlink:href=\"#DejaVuSans-95\"/>\n       <use x=\"665.771484\" xlink:href=\"#DejaVuSans-110\"/>\n       <use x=\"729.150391\" xlink:href=\"#DejaVuSans-108\"/>\n       <use x=\"756.933594\" xlink:href=\"#DejaVuSans-112\"/>\n       <use x=\"820.410156\" xlink:href=\"#DejaVuSans-95\"/>\n       <use x=\"870.410156\" xlink:href=\"#DejaVuSans-95\"/>\n       <use x=\"920.410156\" xlink:href=\"#DejaVuSans-113\"/>\n       <use x=\"983.886719\" xlink:href=\"#DejaVuSans-117\"/>\n       <use x=\"1047.265625\" xlink:href=\"#DejaVuSans-111\"/>\n       <use x=\"1108.447266\" xlink:href=\"#DejaVuSans-116\"/>\n      </g>\n     </g>\n    </g>\n    <g id=\"ytick_13\">\n     <g id=\"line2d_20\">\n      <g>\n       <use style=\"stroke:#000000;stroke-width:0.8;\" x=\"175.085938\" xlink:href=\"#m309c831f2d\" y=\"15.563077\"/>\n      </g>\n     </g>\n     <g id=\"text_20\">\n      <!-- mean__players__couples -->\n      <g transform=\"translate(44.635937 19.362296)scale(0.1 -0.1)\">\n       <use xlink:href=\"#DejaVuSans-109\"/>\n       <use x=\"97.412109\" xlink:href=\"#DejaVuSans-101\"/>\n       <use x=\"158.935547\" xlink:href=\"#DejaVuSans-97\"/>\n       <use x=\"220.214844\" xlink:href=\"#DejaVuSans-110\"/>\n       <use x=\"283.59375\" xlink:href=\"#DejaVuSans-95\"/>\n       <use x=\"333.59375\" xlink:href=\"#DejaVuSans-95\"/>\n       <use x=\"383.59375\" xlink:href=\"#DejaVuSans-112\"/>\n       <use x=\"447.070312\" xlink:href=\"#DejaVuSans-108\"/>\n       <use x=\"474.853516\" xlink:href=\"#DejaVuSans-97\"/>\n       <use x=\"536.132812\" xlink:href=\"#DejaVuSans-121\"/>\n       <use x=\"595.3125\" xlink:href=\"#DejaVuSans-101\"/>\n       <use x=\"656.835938\" xlink:href=\"#DejaVuSans-114\"/>\n       <use x=\"697.949219\" xlink:href=\"#DejaVuSans-115\"/>\n       <use x=\"750.048828\" xlink:href=\"#DejaVuSans-95\"/>\n       <use x=\"800.048828\" xlink:href=\"#DejaVuSans-95\"/>\n       <use x=\"850.048828\" xlink:href=\"#DejaVuSans-99\"/>\n       <use x=\"905.029297\" xlink:href=\"#DejaVuSans-111\"/>\n       <use x=\"966.210938\" xlink:href=\"#DejaVuSans-117\"/>\n       <use x=\"1029.589844\" xlink:href=\"#DejaVuSans-112\"/>\n       <use x=\"1093.066406\" xlink:href=\"#DejaVuSans-108\"/>\n       <use x=\"1120.849609\" xlink:href=\"#DejaVuSans-101\"/>\n       <use x=\"1182.373047\" xlink:href=\"#DejaVuSans-115\"/>\n      </g>\n     </g>\n    </g>\n    <g id=\"text_21\">\n     <!-- index -->\n     <defs>\n      <path d=\"M 54.890625 54.6875 \nL 35.109375 28.078125 \nL 55.90625 0 \nL 45.3125 0 \nL 29.390625 21.484375 \nL 13.484375 0 \nL 2.875 0 \nL 24.125 28.609375 \nL 4.6875 54.6875 \nL 15.28125 54.6875 \nL 29.78125 35.203125 \nL 44.28125 54.6875 \nz\n\" id=\"DejaVuSans-120\"/>\n     </defs>\n     <g transform=\"translate(14.798437 129.687187)rotate(-90)scale(0.1 -0.1)\">\n      <use xlink:href=\"#DejaVuSans-105\"/>\n      <use x=\"27.783203\" xlink:href=\"#DejaVuSans-110\"/>\n      <use x=\"91.162109\" xlink:href=\"#DejaVuSans-100\"/>\n      <use x=\"154.638672\" xlink:href=\"#DejaVuSans-101\"/>\n      <use x=\"216.146484\" xlink:href=\"#DejaVuSans-120\"/>\n     </g>\n    </g>\n   </g>\n   <g id=\"patch_16\">\n    <path d=\"M 175.085938 224.64 \nL 175.085938 7.2 \n\" style=\"fill:none;stroke:#000000;stroke-linecap:square;stroke-linejoin:miter;stroke-width:0.8;\"/>\n   </g>\n   <g id=\"patch_17\">\n    <path d=\"M 509.885938 224.64 \nL 509.885938 7.2 \n\" style=\"fill:none;stroke:#000000;stroke-linecap:square;stroke-linejoin:miter;stroke-width:0.8;\"/>\n   </g>\n   <g id=\"patch_18\">\n    <path d=\"M 175.085938 224.64 \nL 509.885938 224.64 \n\" style=\"fill:none;stroke:#000000;stroke-linecap:square;stroke-linejoin:miter;stroke-width:0.8;\"/>\n   </g>\n   <g id=\"patch_19\">\n    <path d=\"M 175.085938 7.2 \nL 509.885938 7.2 \n\" style=\"fill:none;stroke:#000000;stroke-linecap:square;stroke-linejoin:miter;stroke-width:0.8;\"/>\n   </g>\n  </g>\n </g>\n <defs>\n  <clipPath id=\"p077d624674\">\n   <rect height=\"217.44\" width=\"334.8\" x=\"175.085938\" y=\"7.2\"/>\n  </clipPath>\n </defs>\n</svg>\n",
      "image/png": "[encoded data removed]"
     },
     "metadata": {
      "needs_background": "light"
     }
    }
   ],
   "source": [
    "df_f_score.groupby('index').sum()['power'].sort_values(ascending=False).head(13).plot.barh()"
   ]
  },
  {
   "source": [
    "## Predictions\n",
    "Lets see how well our model works for this user"
   ],
   "cell_type": "markdown",
   "metadata": {}
  },
  {
   "cell_type": "code",
   "execution_count": 45,
   "metadata": {},
   "outputs": [
    {
     "output_type": "execute_result",
     "data": {
      "text/plain": [
       "                 user  game_id  rating  prediction  \\\n",
       "13533141  1000salmons   150376     7.5    7.248493   \n",
       "14859079  1000salmons    68448     8.5    6.896184   \n",
       "14913452  1000salmons      320     6.5    6.046124   \n",
       "15349127  1000salmons   129622     7.5    7.217817   \n",
       "\n",
       "                                    primary  \n",
       "13533141  Dead of Winter: A Crossroads Game  \n",
       "14859079                          7 Wonders  \n",
       "14913452                           Scrabble  \n",
       "15349127                        Love Letter  "
      ],
      "text/html": "<div>\n<style scoped>\n    .dataframe tbody tr th:only-of-type {\n        vertical-align: middle;\n    }\n\n    .dataframe tbody tr th {\n        vertical-align: top;\n    }\n\n    .dataframe thead th {\n        text-align: right;\n    }\n</style>\n<table border=\"1\" class=\"dataframe\">\n  <thead>\n    <tr style=\"text-align: right;\">\n      <th></th>\n      <th>user</th>\n      <th>game_id</th>\n      <th>rating</th>\n      <th>prediction</th>\n      <th>primary</th>\n    </tr>\n  </thead>\n  <tbody>\n    <tr>\n      <th>13533141</th>\n      <td>1000salmons</td>\n      <td>150376</td>\n      <td>7.5</td>\n      <td>7.248493</td>\n      <td>Dead of Winter: A Crossroads Game</td>\n    </tr>\n    <tr>\n      <th>14859079</th>\n      <td>1000salmons</td>\n      <td>68448</td>\n      <td>8.5</td>\n      <td>6.896184</td>\n      <td>7 Wonders</td>\n    </tr>\n    <tr>\n      <th>14913452</th>\n      <td>1000salmons</td>\n      <td>320</td>\n      <td>6.5</td>\n      <td>6.046124</td>\n      <td>Scrabble</td>\n    </tr>\n    <tr>\n      <th>15349127</th>\n      <td>1000salmons</td>\n      <td>129622</td>\n      <td>7.5</td>\n      <td>7.217817</td>\n      <td>Love Letter</td>\n    </tr>\n  </tbody>\n</table>\n</div>"
     },
     "metadata": {},
     "execution_count": 45
    }
   ],
   "source": [
    "sample_predictions = pd.Series(model.predict(xgb.DMatrix(test_X)), index=sample_test.index, name='prediction')\n",
    "sample_test.join(sample_predictions).join(game_details_df[['primary']], on=sample_test.game_id)\n"
   ]
  },
  {
   "source": [
    "Now, lets find the best game for this user, from those he never played!"
   ],
   "cell_type": "markdown",
   "metadata": {}
  },
  {
   "cell_type": "code",
   "execution_count": 74,
   "metadata": {},
   "outputs": [],
   "source": [
    "games_played = sample_train['game_id'].append(sample_test['game_id'])\n",
    "other_games_X_base = pd.DataFrame([('1000salmons', id) \n",
    "    for id in game_details_df[ ~game_details_df.index.isin(games_played) ].index],\n",
    "columns=['user', 'game_id'])\n",
    "\n",
    "other_games_X = pipeline.transform(other_games_X_base)\n",
    "other_games_X = pd.DataFrame(other_games_X, columns=pipeline.steps[-1][1].get_feature_names())\n"
   ]
  },
  {
   "cell_type": "code",
   "execution_count": 75,
   "metadata": {},
   "outputs": [],
   "source": [
    "res = model.predict(xgb.DMatrix(other_games_X))\n",
    "other_games_X_base['predicted'] = pd.Series(res)"
   ]
  },
  {
   "cell_type": "code",
   "execution_count": 80,
   "metadata": {},
   "outputs": [
    {
     "output_type": "execute_result",
     "data": {
      "text/plain": [
       "              user  game_id  predicted                 primary\n",
       "24     1000salmons   161936   8.652874                Pandemic\n",
       "17203  1000salmons    99044   8.475116             Carcassonne\n",
       "16247  1000salmons    39426   8.417765                   Catan\n",
       "17916  1000salmons    96157   8.303337          Ticket to Ride\n",
       "2380   1000salmons   156496   8.280879                Agricola\n",
       "13528  1000salmons   131017   8.116427             Puerto Rico\n",
       "1401   1000salmons   154509   8.084116             Small World\n",
       "206    1000salmons    21241   8.078698       Terraforming Mars\n",
       "7997   1000salmons   154857   8.057976           King of Tokyo\n",
       "14015  1000salmons    26795   8.048515  Ticket to Ride: Europe"
      ],
      "text/html": "<div>\n<style scoped>\n    .dataframe tbody tr th:only-of-type {\n        vertical-align: middle;\n    }\n\n    .dataframe tbody tr th {\n        vertical-align: top;\n    }\n\n    .dataframe thead th {\n        text-align: right;\n    }\n</style>\n<table border=\"1\" class=\"dataframe\">\n  <thead>\n    <tr style=\"text-align: right;\">\n      <th></th>\n      <th>user</th>\n      <th>game_id</th>\n      <th>predicted</th>\n      <th>primary</th>\n    </tr>\n  </thead>\n  <tbody>\n    <tr>\n      <th>24</th>\n      <td>1000salmons</td>\n      <td>161936</td>\n      <td>8.652874</td>\n      <td>Pandemic</td>\n    </tr>\n    <tr>\n      <th>17203</th>\n      <td>1000salmons</td>\n      <td>99044</td>\n      <td>8.475116</td>\n      <td>Carcassonne</td>\n    </tr>\n    <tr>\n      <th>16247</th>\n      <td>1000salmons</td>\n      <td>39426</td>\n      <td>8.417765</td>\n      <td>Catan</td>\n    </tr>\n    <tr>\n      <th>17916</th>\n      <td>1000salmons</td>\n      <td>96157</td>\n      <td>8.303337</td>\n      <td>Ticket to Ride</td>\n    </tr>\n    <tr>\n      <th>2380</th>\n      <td>1000salmons</td>\n      <td>156496</td>\n      <td>8.280879</td>\n      <td>Agricola</td>\n    </tr>\n    <tr>\n      <th>13528</th>\n      <td>1000salmons</td>\n      <td>131017</td>\n      <td>8.116427</td>\n      <td>Puerto Rico</td>\n    </tr>\n    <tr>\n      <th>1401</th>\n      <td>1000salmons</td>\n      <td>154509</td>\n      <td>8.084116</td>\n      <td>Small World</td>\n    </tr>\n    <tr>\n      <th>206</th>\n      <td>1000salmons</td>\n      <td>21241</td>\n      <td>8.078698</td>\n      <td>Terraforming Mars</td>\n    </tr>\n    <tr>\n      <th>7997</th>\n      <td>1000salmons</td>\n      <td>154857</td>\n      <td>8.057976</td>\n      <td>King of Tokyo</td>\n    </tr>\n    <tr>\n      <th>14015</th>\n      <td>1000salmons</td>\n      <td>26795</td>\n      <td>8.048515</td>\n      <td>Ticket to Ride: Europe</td>\n    </tr>\n  </tbody>\n</table>\n</div>"
     },
     "metadata": {},
     "execution_count": 80
    }
   ],
   "source": [
    "other_games_X_base.sort_values('predicted', ascending=False).join(game_details_df[['primary']], on=other_games_X_base.game_id).head(10)\n"
   ]
  },
  {
   "source": [
    "Now that's interesting, but just for comparison, what will we say to a user that didn't insert any game before in his life?"
   ],
   "cell_type": "markdown",
   "metadata": {}
  },
  {
   "cell_type": "code",
   "execution_count": 81,
   "metadata": {},
   "outputs": [],
   "source": [
    "all_games_X_base = pd.DataFrame([('empty', id) \n",
    "    for id in game_details_df.index],\n",
    "columns=['user', 'game_id'])\n",
    "\n",
    "all_games_X = pipeline.transform(all_games_X_base)\n",
    "all_games_X = pd.DataFrame(all_games_X, columns=pipeline.steps[-1][1].get_feature_names())\n"
   ]
  },
  {
   "cell_type": "code",
   "execution_count": 83,
   "metadata": {},
   "outputs": [],
   "source": [
    "res = model.predict(xgb.DMatrix(all_games_X))\n",
    "all_games_X_base['predicted'] = pd.Series(res)"
   ]
  },
  {
   "cell_type": "code",
   "execution_count": 84,
   "metadata": {},
   "outputs": [
    {
     "output_type": "execute_result",
     "data": {
      "text/plain": [
       "        user  game_id  predicted         primary\n",
       "5331   empty   130295   5.364625        Pandemic\n",
       "16986  empty   163688   5.223431     Carcassonne\n",
       "8861   empty   128855   5.164474           Catan\n",
       "9530   empty    76546   5.070251       7 Wonders\n",
       "5359   empty    27969   4.962818        Dominion\n",
       "15987  empty   274049   4.917711  Ticket to Ride\n",
       "3752   empty     1125   4.911664       Codenames\n",
       "503    empty   134726   4.806530        Agricola\n",
       "2118   empty   238638   4.781491     Puerto Rico\n",
       "9634   empty   191296   4.690407     Small World"
      ],
      "text/html": "<div>\n<style scoped>\n    .dataframe tbody tr th:only-of-type {\n        vertical-align: middle;\n    }\n\n    .dataframe tbody tr th {\n        vertical-align: top;\n    }\n\n    .dataframe thead th {\n        text-align: right;\n    }\n</style>\n<table border=\"1\" class=\"dataframe\">\n  <thead>\n    <tr style=\"text-align: right;\">\n      <th></th>\n      <th>user</th>\n      <th>game_id</th>\n      <th>predicted</th>\n      <th>primary</th>\n    </tr>\n  </thead>\n  <tbody>\n    <tr>\n      <th>5331</th>\n      <td>empty</td>\n      <td>130295</td>\n      <td>5.364625</td>\n      <td>Pandemic</td>\n    </tr>\n    <tr>\n      <th>16986</th>\n      <td>empty</td>\n      <td>163688</td>\n      <td>5.223431</td>\n      <td>Carcassonne</td>\n    </tr>\n    <tr>\n      <th>8861</th>\n      <td>empty</td>\n      <td>128855</td>\n      <td>5.164474</td>\n      <td>Catan</td>\n    </tr>\n    <tr>\n      <th>9530</th>\n      <td>empty</td>\n      <td>76546</td>\n      <td>5.070251</td>\n      <td>7 Wonders</td>\n    </tr>\n    <tr>\n      <th>5359</th>\n      <td>empty</td>\n      <td>27969</td>\n      <td>4.962818</td>\n      <td>Dominion</td>\n    </tr>\n    <tr>\n      <th>15987</th>\n      <td>empty</td>\n      <td>274049</td>\n      <td>4.917711</td>\n      <td>Ticket to Ride</td>\n    </tr>\n    <tr>\n      <th>3752</th>\n      <td>empty</td>\n      <td>1125</td>\n      <td>4.911664</td>\n      <td>Codenames</td>\n    </tr>\n    <tr>\n      <th>503</th>\n      <td>empty</td>\n      <td>134726</td>\n      <td>4.806530</td>\n      <td>Agricola</td>\n    </tr>\n    <tr>\n      <th>2118</th>\n      <td>empty</td>\n      <td>238638</td>\n      <td>4.781491</td>\n      <td>Puerto Rico</td>\n    </tr>\n    <tr>\n      <th>9634</th>\n      <td>empty</td>\n      <td>191296</td>\n      <td>4.690407</td>\n      <td>Small World</td>\n    </tr>\n  </tbody>\n</table>\n</div>"
     },
     "metadata": {},
     "execution_count": 84
    }
   ],
   "source": [
    "all_games_X_base.sort_values('predicted', ascending=False).join(game_details_df[['primary']], on=all_games_X_base.game_id).head(10)"
   ]
  },
  {
   "source": [
    "It look Fairly similar by name alone, all thogh the numbers are mycj lower"
   ],
   "cell_type": "markdown",
   "metadata": {}
  }
 ]
}