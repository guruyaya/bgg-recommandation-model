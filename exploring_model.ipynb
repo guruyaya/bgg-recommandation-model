{
 "cells": [
  {
   "cell_type": "markdown",
   "metadata": {},
   "source": [
    "# BGG Recommendation model\n",
    "This notebook explores a ready model for BGG recommendations"
   ]
  },
  {
   "cell_type": "code",
   "execution_count": 1,
   "metadata": {},
   "outputs": [],
   "source": [
    "import pandas as pd\n",
    "import xgboost as xgb\n",
    "from matplotlib import pyplot\n",
    "import glob\n",
    "import numpy as np\n",
    "import seaborn as sns"
   ]
  },
  {
   "cell_type": "markdown",
   "metadata": {},
   "source": [
    "## Sample data\n",
    "The original data included a comment from the user, the game_id column was called \"ID\", and it had an \"Unnamed: 0\" column as an index. The applies changes to make the data more useable, and the sample data presented is more similar to the shuffled data"
   ]
  },
  {
   "cell_type": "code",
   "execution_count": 2,
   "metadata": {},
   "outputs": [],
   "source": [
    "sample_train = pd.DataFrame([\n",
    "    ('1000salmons',157354,8.0),\n",
    "    ('1000salmons',128882,7.5),\n",
    "    ('1000salmons',2407,4.5),\n",
    "    ('1000salmons',178900,8.0),\n",
    "    ('1000salmons',1294,5.0),\n",
    "    ('1000salmons',12194,7.0),\n",
    "    ('1000salmons',146735,7.0),\n",
    "    ('1000salmons',70919,7.5),\n",
    "    ('1000salmons',1406,5.0),\n",
    "    ('1000salmons',1293,6.0),\n",
    "    ('1000salmons',67877,6.5),\n",
    "    ('1000salmons',84876,9.0),\n",
    "    ('1000salmons',36218,8.5),\n",
    "    ('1000salmons',19796,6.0),\n",
    "    ('1000salmons',2381,6.0),\n",
    "    ('1000salmons',50381,6.5),\n",
    "], \n",
    "columns=['user', 'game_id', 'rating'],\n",
    "index=(506155,1048906,4433087,5143551,5295373,6563448,\n",
    "        6765807,6879196,8291897,8629273,10142237,10523140,\n",
    "        12212202,12365209,13306961,13362454)\n",
    ")\n",
    "\n",
    "sample_test = pd.DataFrame([\n",
    "    ('1000salmons',150376,7.5),\n",
    "    ('1000salmons',68448,8.5),\n",
    "    ('1000salmons',320,6.5),\n",
    "    ('1000salmons',129622,7.5),\n",
    "], \n",
    "columns=['user', 'game_id', 'rating'],\n",
    "index=(13533141,14859079,14913452,15349127)\n",
    ")"
   ]
  },
  {
   "cell_type": "code",
   "execution_count": 3,
   "metadata": {},
   "outputs": [],
   "source": [
    "game_details_df = pd.read_csv('data/games_detailed_info.csv')\n",
    "game_details_df = game_details_df.set_index('id')\n"
   ]
  },
  {
   "cell_type": "markdown",
   "metadata": {},
   "source": [
    "Lets see the games our test user likes"
   ]
  },
  {
   "cell_type": "code",
   "execution_count": 4,
   "metadata": {},
   "outputs": [
    {
     "data": {
      "text/html": [
       "<div>\n",
       "<style scoped>\n",
       "    .dataframe tbody tr th:only-of-type {\n",
       "        vertical-align: middle;\n",
       "    }\n",
       "\n",
       "    .dataframe tbody tr th {\n",
       "        vertical-align: top;\n",
       "    }\n",
       "\n",
       "    .dataframe thead th {\n",
       "        text-align: right;\n",
       "    }\n",
       "</style>\n",
       "<table border=\"1\" class=\"dataframe\">\n",
       "  <thead>\n",
       "    <tr style=\"text-align: right;\">\n",
       "      <th></th>\n",
       "      <th>user</th>\n",
       "      <th>game_id</th>\n",
       "      <th>rating</th>\n",
       "      <th>primary</th>\n",
       "    </tr>\n",
       "  </thead>\n",
       "  <tbody>\n",
       "    <tr>\n",
       "      <th>506155</th>\n",
       "      <td>1000salmons</td>\n",
       "      <td>157354</td>\n",
       "      <td>8.0</td>\n",
       "      <td>Five Tribes</td>\n",
       "    </tr>\n",
       "    <tr>\n",
       "      <th>1048906</th>\n",
       "      <td>1000salmons</td>\n",
       "      <td>128882</td>\n",
       "      <td>7.5</td>\n",
       "      <td>The Resistance: Avalon</td>\n",
       "    </tr>\n",
       "    <tr>\n",
       "      <th>4433087</th>\n",
       "      <td>1000salmons</td>\n",
       "      <td>2407</td>\n",
       "      <td>4.5</td>\n",
       "      <td>Sorry!</td>\n",
       "    </tr>\n",
       "    <tr>\n",
       "      <th>5143551</th>\n",
       "      <td>1000salmons</td>\n",
       "      <td>178900</td>\n",
       "      <td>8.0</td>\n",
       "      <td>Codenames</td>\n",
       "    </tr>\n",
       "    <tr>\n",
       "      <th>5295373</th>\n",
       "      <td>1000salmons</td>\n",
       "      <td>1294</td>\n",
       "      <td>5.0</td>\n",
       "      <td>Clue</td>\n",
       "    </tr>\n",
       "    <tr>\n",
       "      <th>6563448</th>\n",
       "      <td>1000salmons</td>\n",
       "      <td>12194</td>\n",
       "      <td>7.0</td>\n",
       "      <td>Munchkin Bites!</td>\n",
       "    </tr>\n",
       "    <tr>\n",
       "      <th>6765807</th>\n",
       "      <td>1000salmons</td>\n",
       "      <td>146735</td>\n",
       "      <td>7.0</td>\n",
       "      <td>Munchkin Adventure Time</td>\n",
       "    </tr>\n",
       "    <tr>\n",
       "      <th>6879196</th>\n",
       "      <td>1000salmons</td>\n",
       "      <td>70919</td>\n",
       "      <td>7.5</td>\n",
       "      <td>Takenoko</td>\n",
       "    </tr>\n",
       "    <tr>\n",
       "      <th>8291897</th>\n",
       "      <td>1000salmons</td>\n",
       "      <td>1406</td>\n",
       "      <td>5.0</td>\n",
       "      <td>Monopoly</td>\n",
       "    </tr>\n",
       "    <tr>\n",
       "      <th>8629273</th>\n",
       "      <td>1000salmons</td>\n",
       "      <td>1293</td>\n",
       "      <td>6.0</td>\n",
       "      <td>Boggle</td>\n",
       "    </tr>\n",
       "    <tr>\n",
       "      <th>10142237</th>\n",
       "      <td>1000salmons</td>\n",
       "      <td>67877</td>\n",
       "      <td>6.5</td>\n",
       "      <td>Anomia</td>\n",
       "    </tr>\n",
       "    <tr>\n",
       "      <th>10523140</th>\n",
       "      <td>1000salmons</td>\n",
       "      <td>84876</td>\n",
       "      <td>9.0</td>\n",
       "      <td>The Castles of Burgundy</td>\n",
       "    </tr>\n",
       "    <tr>\n",
       "      <th>12212202</th>\n",
       "      <td>1000salmons</td>\n",
       "      <td>36218</td>\n",
       "      <td>8.5</td>\n",
       "      <td>Dominion</td>\n",
       "    </tr>\n",
       "    <tr>\n",
       "      <th>12365209</th>\n",
       "      <td>1000salmons</td>\n",
       "      <td>19796</td>\n",
       "      <td>6.0</td>\n",
       "      <td>Cranium: The Family Fun Game</td>\n",
       "    </tr>\n",
       "    <tr>\n",
       "      <th>13306961</th>\n",
       "      <td>1000salmons</td>\n",
       "      <td>2381</td>\n",
       "      <td>6.0</td>\n",
       "      <td>Scattergories</td>\n",
       "    </tr>\n",
       "    <tr>\n",
       "      <th>13362454</th>\n",
       "      <td>1000salmons</td>\n",
       "      <td>50381</td>\n",
       "      <td>6.5</td>\n",
       "      <td>Cards Against Humanity</td>\n",
       "    </tr>\n",
       "  </tbody>\n",
       "</table>\n",
       "</div>"
      ],
      "text/plain": [
       "                 user  game_id  rating                       primary\n",
       "506155    1000salmons   157354     8.0                   Five Tribes\n",
       "1048906   1000salmons   128882     7.5        The Resistance: Avalon\n",
       "4433087   1000salmons     2407     4.5                        Sorry!\n",
       "5143551   1000salmons   178900     8.0                     Codenames\n",
       "5295373   1000salmons     1294     5.0                          Clue\n",
       "6563448   1000salmons    12194     7.0               Munchkin Bites!\n",
       "6765807   1000salmons   146735     7.0       Munchkin Adventure Time\n",
       "6879196   1000salmons    70919     7.5                      Takenoko\n",
       "8291897   1000salmons     1406     5.0                      Monopoly\n",
       "8629273   1000salmons     1293     6.0                        Boggle\n",
       "10142237  1000salmons    67877     6.5                        Anomia\n",
       "10523140  1000salmons    84876     9.0       The Castles of Burgundy\n",
       "12212202  1000salmons    36218     8.5                      Dominion\n",
       "12365209  1000salmons    19796     6.0  Cranium: The Family Fun Game\n",
       "13306961  1000salmons     2381     6.0                 Scattergories\n",
       "13362454  1000salmons    50381     6.5        Cards Against Humanity"
      ]
     },
     "execution_count": 4,
     "metadata": {},
     "output_type": "execute_result"
    }
   ],
   "source": [
    "sample_train.join(game_details_df[['primary']], on=sample_train.game_id)"
   ]
  },
  {
   "cell_type": "markdown",
   "metadata": {},
   "source": [
    "We are ready to start playing. First of all, lets load the rating pipline"
   ]
  },
  {
   "cell_type": "markdown",
   "metadata": {},
   "source": [
    "# Fitting the user\n",
    "Unlike other models in machine learning, recommendation systems have to do some fitting on the traning data past the model creation. This fitting method is designed to handle new user data, and does not affect the model. That's why we use transform on the data, instead of predict.\n",
    "We'll do some data exploration later"
   ]
  },
  {
   "cell_type": "code",
   "execution_count": 5,
   "metadata": {},
   "outputs": [],
   "source": [
    "from prepare_comments import get_pipeline\n",
    "pipeline = get_pipeline('models/encoded_games_detailed_info.fethear')\n",
    "\n",
    "train_y = sample_train['rating']\n",
    "test_y = sample_test['rating']\n",
    "\n",
    "train_X = pipeline.fit_transform(sample_train.drop('rating', axis=1), train_y)\n",
    "test_X = pipeline.transform(sample_test.drop('rating', axis=1))\n",
    "\n",
    "train_X = pd.DataFrame(train_X, columns=pipeline.steps[-1][1].get_feature_names())\n",
    "test_X = pd.DataFrame(test_X, columns=pipeline.steps[-1][1].get_feature_names())"
   ]
  },
  {
   "cell_type": "markdown",
   "metadata": {},
   "source": [
    "The first game the user reviwed was \"Five Tribes\". Here are the game details from the original table"
   ]
  },
  {
   "cell_type": "code",
   "execution_count": 6,
   "metadata": {},
   "outputs": [
    {
     "data": {
      "text/plain": [
       "yearpublished                                                     2014\n",
       "minplayers                                                           2\n",
       "maxplayers                                                           4\n",
       "boardgamecategory       ['Animals', 'Arabian', 'Fantasy', 'Mythology']\n",
       "boardgamemechanic    ['Auction/Bidding', 'End Game Bonuses', 'Hidde...\n",
       "averageweight                                                   2.8516\n",
       "Name: 157354, dtype: object"
      ]
     },
     "execution_count": 6,
     "metadata": {},
     "output_type": "execute_result"
    }
   ],
   "source": [
    "game_details_df[game_details_df['primary'] == 'Five Tribes'][\n",
    "    ['yearpublished', 'minplayers', 'maxplayers', 'boardgamecategory', 'boardgamemechanic', 'averageweight']\n",
    "].iloc[0]"
   ]
  },
  {
   "cell_type": "code",
   "execution_count": 7,
   "metadata": {},
   "outputs": [
    {
     "data": {
      "text/html": [
       "<div>\n",
       "<style scoped>\n",
       "    .dataframe tbody tr th:only-of-type {\n",
       "        vertical-align: middle;\n",
       "    }\n",
       "\n",
       "    .dataframe tbody tr th {\n",
       "        vertical-align: top;\n",
       "    }\n",
       "\n",
       "    .dataframe thead th {\n",
       "        text-align: right;\n",
       "    }\n",
       "</style>\n",
       "<table border=\"1\" class=\"dataframe\">\n",
       "  <thead>\n",
       "    <tr style=\"text-align: right;\">\n",
       "      <th></th>\n",
       "      <th>game__review__count</th>\n",
       "      <th>game__review__mean_plus_std</th>\n",
       "      <th>game__review__mean_minus_std</th>\n",
       "    </tr>\n",
       "  </thead>\n",
       "  <tbody>\n",
       "    <tr>\n",
       "      <th>0</th>\n",
       "      <td>54354.0</td>\n",
       "      <td>9.068371</td>\n",
       "      <td>6.500402</td>\n",
       "    </tr>\n",
       "    <tr>\n",
       "      <th>1</th>\n",
       "      <td>46701.0</td>\n",
       "      <td>9.109657</td>\n",
       "      <td>6.063849</td>\n",
       "    </tr>\n",
       "    <tr>\n",
       "      <th>2</th>\n",
       "      <td>9903.0</td>\n",
       "      <td>6.255981</td>\n",
       "      <td>2.746737</td>\n",
       "    </tr>\n",
       "    <tr>\n",
       "      <th>3</th>\n",
       "      <td>112776.0</td>\n",
       "      <td>8.926790</td>\n",
       "      <td>6.350360</td>\n",
       "    </tr>\n",
       "    <tr>\n",
       "      <th>4</th>\n",
       "      <td>29862.0</td>\n",
       "      <td>7.170194</td>\n",
       "      <td>4.182300</td>\n",
       "    </tr>\n",
       "    <tr>\n",
       "      <th>5</th>\n",
       "      <td>5289.0</td>\n",
       "      <td>7.651959</td>\n",
       "      <td>4.263583</td>\n",
       "    </tr>\n",
       "    <tr>\n",
       "      <th>6</th>\n",
       "      <td>2649.0</td>\n",
       "      <td>8.102111</td>\n",
       "      <td>4.841989</td>\n",
       "    </tr>\n",
       "    <tr>\n",
       "      <th>7</th>\n",
       "      <td>59553.0</td>\n",
       "      <td>8.458135</td>\n",
       "      <td>6.095495</td>\n",
       "    </tr>\n",
       "    <tr>\n",
       "      <th>8</th>\n",
       "      <td>48096.0</td>\n",
       "      <td>6.197650</td>\n",
       "      <td>2.511492</td>\n",
       "    </tr>\n",
       "    <tr>\n",
       "      <th>9</th>\n",
       "      <td>12114.0</td>\n",
       "      <td>7.795083</td>\n",
       "      <td>4.619231</td>\n",
       "    </tr>\n",
       "    <tr>\n",
       "      <th>10</th>\n",
       "      <td>4881.0</td>\n",
       "      <td>7.986008</td>\n",
       "      <td>5.128061</td>\n",
       "    </tr>\n",
       "    <tr>\n",
       "      <th>11</th>\n",
       "      <td>78135.0</td>\n",
       "      <td>9.374963</td>\n",
       "      <td>6.878869</td>\n",
       "    </tr>\n",
       "    <tr>\n",
       "      <th>12</th>\n",
       "      <td>134868.0</td>\n",
       "      <td>9.051507</td>\n",
       "      <td>6.194771</td>\n",
       "    </tr>\n",
       "    <tr>\n",
       "      <th>13</th>\n",
       "      <td>555.0</td>\n",
       "      <td>7.137586</td>\n",
       "      <td>4.153765</td>\n",
       "    </tr>\n",
       "    <tr>\n",
       "      <th>14</th>\n",
       "      <td>14472.0</td>\n",
       "      <td>7.654728</td>\n",
       "      <td>4.754174</td>\n",
       "    </tr>\n",
       "    <tr>\n",
       "      <th>15</th>\n",
       "      <td>40131.0</td>\n",
       "      <td>7.999164</td>\n",
       "      <td>3.877872</td>\n",
       "    </tr>\n",
       "  </tbody>\n",
       "</table>\n",
       "</div>"
      ],
      "text/plain": [
       "    game__review__count  game__review__mean_plus_std  \\\n",
       "0               54354.0                     9.068371   \n",
       "1               46701.0                     9.109657   \n",
       "2                9903.0                     6.255981   \n",
       "3              112776.0                     8.926790   \n",
       "4               29862.0                     7.170194   \n",
       "5                5289.0                     7.651959   \n",
       "6                2649.0                     8.102111   \n",
       "7               59553.0                     8.458135   \n",
       "8               48096.0                     6.197650   \n",
       "9               12114.0                     7.795083   \n",
       "10               4881.0                     7.986008   \n",
       "11              78135.0                     9.374963   \n",
       "12             134868.0                     9.051507   \n",
       "13                555.0                     7.137586   \n",
       "14              14472.0                     7.654728   \n",
       "15              40131.0                     7.999164   \n",
       "\n",
       "    game__review__mean_minus_std  \n",
       "0                       6.500402  \n",
       "1                       6.063849  \n",
       "2                       2.746737  \n",
       "3                       6.350360  \n",
       "4                       4.182300  \n",
       "5                       4.263583  \n",
       "6                       4.841989  \n",
       "7                       6.095495  \n",
       "8                       2.511492  \n",
       "9                       4.619231  \n",
       "10                      5.128061  \n",
       "11                      6.878869  \n",
       "12                      6.194771  \n",
       "13                      4.153765  \n",
       "14                      4.754174  \n",
       "15                      3.877872  "
      ]
     },
     "execution_count": 7,
     "metadata": {},
     "output_type": "execute_result"
    }
   ],
   "source": [
    "train_X[ ['game__review__count', 'game__review__mean_plus_std', 'game__review__mean_minus_std'] ]"
   ]
  },
  {
   "cell_type": "code",
   "execution_count": 8,
   "metadata": {},
   "outputs": [
    {
     "data": {
      "text/plain": [
       "game__weight__less_than_0.50    0.000000\n",
       "game__weight__2.01-2.5          0.000000\n",
       "game__weight__2.51-3.0          1.000000\n",
       "game__players__couples          1.000000\n",
       "game__players__multiplayers     1.000000\n",
       "game__players__party            0.000000\n",
       "game__category__card_game       0.000000\n",
       "game__category__fantasy         1.000000\n",
       "game__desc_nlp__five            0.458203\n",
       "game__desc_nlp__win             0.105453\n",
       "game__desc_nlp__dice            0.000000\n",
       "Name: 0, dtype: float64"
      ]
     },
     "execution_count": 8,
     "metadata": {},
     "output_type": "execute_result"
    }
   ],
   "source": [
    "train_X[\n",
    "    ['game__weight__less_than_0.50', 'game__weight__2.01-2.5', 'game__weight__2.51-3.0', 'game__players__couples', 'game__players__multiplayers', 'game__players__party', 'game__category__card_game', 'game__category__fantasy', 'game__desc_nlp__five', 'game__desc_nlp__win', 'game__desc_nlp__dice']\n",
    "].iloc[0]\n"
   ]
  },
  {
   "cell_type": "markdown",
   "metadata": {},
   "source": [
    "### user data"
   ]
  },
  {
   "cell_type": "code",
   "execution_count": 9,
   "metadata": {},
   "outputs": [
    {
     "data": {
      "text/html": [
       "<div>\n",
       "<style scoped>\n",
       "    .dataframe tbody tr th:only-of-type {\n",
       "        vertical-align: middle;\n",
       "    }\n",
       "\n",
       "    .dataframe tbody tr th {\n",
       "        vertical-align: top;\n",
       "    }\n",
       "\n",
       "    .dataframe thead th {\n",
       "        text-align: right;\n",
       "    }\n",
       "</style>\n",
       "<table border=\"1\" class=\"dataframe\">\n",
       "  <thead>\n",
       "    <tr style=\"text-align: right;\">\n",
       "      <th></th>\n",
       "      <th>user_reviews__count</th>\n",
       "      <th>user_reviews__mean_plus_std</th>\n",
       "      <th>user_reviews__mean_minus_std</th>\n",
       "    </tr>\n",
       "  </thead>\n",
       "  <tbody>\n",
       "    <tr>\n",
       "      <th>0</th>\n",
       "      <td>16.0</td>\n",
       "      <td>17.30384</td>\n",
       "      <td>14.69616</td>\n",
       "    </tr>\n",
       "    <tr>\n",
       "      <th>1</th>\n",
       "      <td>16.0</td>\n",
       "      <td>17.30384</td>\n",
       "      <td>14.69616</td>\n",
       "    </tr>\n",
       "    <tr>\n",
       "      <th>2</th>\n",
       "      <td>16.0</td>\n",
       "      <td>17.30384</td>\n",
       "      <td>14.69616</td>\n",
       "    </tr>\n",
       "    <tr>\n",
       "      <th>3</th>\n",
       "      <td>16.0</td>\n",
       "      <td>17.30384</td>\n",
       "      <td>14.69616</td>\n",
       "    </tr>\n",
       "    <tr>\n",
       "      <th>4</th>\n",
       "      <td>16.0</td>\n",
       "      <td>17.30384</td>\n",
       "      <td>14.69616</td>\n",
       "    </tr>\n",
       "  </tbody>\n",
       "</table>\n",
       "</div>"
      ],
      "text/plain": [
       "   user_reviews__count  user_reviews__mean_plus_std  \\\n",
       "0                 16.0                     17.30384   \n",
       "1                 16.0                     17.30384   \n",
       "2                 16.0                     17.30384   \n",
       "3                 16.0                     17.30384   \n",
       "4                 16.0                     17.30384   \n",
       "\n",
       "   user_reviews__mean_minus_std  \n",
       "0                      14.69616  \n",
       "1                      14.69616  \n",
       "2                      14.69616  \n",
       "3                      14.69616  \n",
       "4                      14.69616  "
      ]
     },
     "execution_count": 9,
     "metadata": {},
     "output_type": "execute_result"
    }
   ],
   "source": [
    "train_X[ ['user_reviews__count', 'user_reviews__mean_plus_std', 'user_reviews__mean_minus_std'] ].head(5)"
   ]
  },
  {
   "cell_type": "code",
   "execution_count": 10,
   "metadata": {},
   "outputs": [
    {
     "data": {
      "text/plain": [
       "sum__weight__less_than_0.50     0.000000\n",
       "sum__weight__2.01-2.5           1.000000\n",
       "sum__weight__2.51-3.0           2.000000\n",
       "sum__players__couples          15.000000\n",
       "sum__players__multiplayers     16.000000\n",
       "sum__players__party            11.000000\n",
       "sum__category__card_game        6.000000\n",
       "sum__category__fantasy          3.000000\n",
       "sum__desc_nlp__five             1.003577\n",
       "sum__desc_nlp__win              0.892038\n",
       "sum__desc_nlp__dice             0.437331\n",
       "Name: 0, dtype: float64"
      ]
     },
     "execution_count": 10,
     "metadata": {},
     "output_type": "execute_result"
    }
   ],
   "source": [
    "train_X[\n",
    "    ['sum__weight__less_than_0.50', 'sum__weight__2.01-2.5', 'sum__weight__2.51-3.0', 'sum__players__couples', 'sum__players__multiplayers', 'sum__players__party', 'sum__category__card_game', 'sum__category__fantasy', 'sum__desc_nlp__five', 'sum__desc_nlp__win', 'sum__desc_nlp__dice']\n",
    "].iloc[0]"
   ]
  },
  {
   "cell_type": "code",
   "execution_count": 11,
   "metadata": {},
   "outputs": [
    {
     "data": {
      "text/plain": [
       "mean__weight__less_than_0.50   -1.000000\n",
       "mean__weight__2.01-2.5          8.500000\n",
       "mean__weight__2.51-3.0          8.500000\n",
       "mean__players__couples          6.800000\n",
       "mean__players__multiplayers     6.750000\n",
       "mean__players__party            6.409091\n",
       "mean__category__card_game       7.416667\n",
       "mean__category__fantasy         7.500000\n",
       "mean__desc_nlp__five            1.389940\n",
       "mean__desc_nlp__win             1.064370\n",
       "mean__desc_nlp__dice            1.043670\n",
       "Name: 0, dtype: float64"
      ]
     },
     "execution_count": 11,
     "metadata": {},
     "output_type": "execute_result"
    }
   ],
   "source": [
    "train_X[\n",
    "    ['mean__weight__less_than_0.50', 'mean__weight__2.01-2.5', 'mean__weight__2.51-3.0', 'mean__players__couples', 'mean__players__multiplayers', 'mean__players__party', 'mean__category__card_game', 'mean__category__fantasy', 'mean__desc_nlp__five', 'mean__desc_nlp__win', 'mean__desc_nlp__dice']\n",
    "].iloc[0]"
   ]
  },
  {
   "cell_type": "markdown",
   "metadata": {},
   "source": [
    "## The model\n",
    "Before stating, lets have a look at the model performance history (measured against validation group, in a 40 minuetes learning process), and the key metrics of the model"
   ]
  },
  {
   "cell_type": "code",
   "execution_count": 12,
   "metadata": {},
   "outputs": [
    {
     "data": {
      "text/plain": [
       "<AxesSubplot:>"
      ]
     },
     "execution_count": 12,
     "metadata": {},
     "output_type": "execute_result"
    },
    {
     "data": {
      "image/png": "[encoded data removed]",
      "text/plain": [
       "<Figure size 720x720 with 1 Axes>"
      ]
     },
     "metadata": {
      "needs_background": "light"
     },
     "output_type": "display_data"
    }
   ],
   "source": [
    "history = pd.read_csv('models/loss_history.csv')\n",
    "axes = []\n",
    "history[['MSE', 'MSE_no_importance', 'MSE_no_reviews', 'MSE_1_review', \n",
    "        'MSE_over_2_reviews', 'MSE_over_5_reviews', 'MSE_over_10_reviews', 'MSE_over_20_reviews', ]].plot( figsize=(10,10) )\n"
   ]
  },
  {
   "cell_type": "code",
   "execution_count": 13,
   "metadata": {},
   "outputs": [
    {
     "data": {
      "text/plain": [
       "<AxesSubplot:>"
      ]
     },
     "execution_count": 13,
     "metadata": {},
     "output_type": "execute_result"
    },
    {
     "data": {
      "image/png": "[encoded data removed]",
      "text/plain": [
       "<Figure size 720x720 with 1 Axes>"
      ]
     },
     "metadata": {
      "needs_background": "light"
     },
     "output_type": "display_data"
    }
   ],
   "source": [
    "history[['MSE', 'MSE_no_importance', 'MSE_no_reviews', 'MSE_1_review', \n",
    "        'MSE_over_2_reviews', 'MSE_over_5_reviews', 'MSE_over_10_reviews', 'MSE_over_20_reviews', ]].plot( figsize=(10,10), ylim=(0.5,1.5), xlim=(18, 21) )"
   ]
  },
  {
   "cell_type": "code",
   "execution_count": 14,
   "metadata": {},
   "outputs": [
    {
     "data": {
      "text/plain": [
       "Unnamed: 0             20.000000\n",
       "iter                   20.000000\n",
       "filenum                20.000000\n",
       "batch                   0.000000\n",
       "MSE                     1.262705\n",
       "MSE_no_importance       1.299371\n",
       "MSE_no_reviews          4.447667\n",
       "MSE_1_review            1.915577\n",
       "MSE_over_2_reviews      1.251151\n",
       "MSE_over_5_reviews      1.245318\n",
       "MSE_over_10_reviews     1.239894\n",
       "MSE_over_20_reviews     1.234185\n",
       "Name: 20, dtype: float64"
      ]
     },
     "execution_count": 14,
     "metadata": {},
     "output_type": "execute_result"
    }
   ],
   "source": [
    "history.iloc[-1]"
   ]
  },
  {
   "cell_type": "markdown",
   "metadata": {},
   "source": [
    "## Test performance evaluation\n",
    "We kept a portion for evalutaing on test group these are our results"
   ]
  },
  {
   "cell_type": "code",
   "execution_count": 15,
   "metadata": {},
   "outputs": [
    {
     "data": {
      "text/html": [
       "<div>\n",
       "<style scoped>\n",
       "    .dataframe tbody tr th:only-of-type {\n",
       "        vertical-align: middle;\n",
       "    }\n",
       "\n",
       "    .dataframe tbody tr th {\n",
       "        vertical-align: top;\n",
       "    }\n",
       "\n",
       "    .dataframe thead th {\n",
       "        text-align: right;\n",
       "    }\n",
       "</style>\n",
       "<table border=\"1\" class=\"dataframe\">\n",
       "  <thead>\n",
       "    <tr style=\"text-align: right;\">\n",
       "      <th></th>\n",
       "      <th>Loss</th>\n",
       "    </tr>\n",
       "    <tr>\n",
       "      <th>Loss type</th>\n",
       "      <th></th>\n",
       "    </tr>\n",
       "  </thead>\n",
       "  <tbody>\n",
       "    <tr>\n",
       "      <th>Weighted</th>\n",
       "      <td>1.242233</td>\n",
       "    </tr>\n",
       "    <tr>\n",
       "      <th>Not weighted</th>\n",
       "      <td>1.299436</td>\n",
       "    </tr>\n",
       "    <tr>\n",
       "      <th>no reviews</th>\n",
       "      <td>4.451930</td>\n",
       "    </tr>\n",
       "    <tr>\n",
       "      <th>1 review</th>\n",
       "      <td>1.925840</td>\n",
       "    </tr>\n",
       "    <tr>\n",
       "      <th>over 2 review</th>\n",
       "      <td>1.250599</td>\n",
       "    </tr>\n",
       "    <tr>\n",
       "      <th>over 5 review</th>\n",
       "      <td>1.244608</td>\n",
       "    </tr>\n",
       "    <tr>\n",
       "      <th>over 10 review</th>\n",
       "      <td>1.239027</td>\n",
       "    </tr>\n",
       "    <tr>\n",
       "      <th>over 20 review</th>\n",
       "      <td>1.233346</td>\n",
       "    </tr>\n",
       "  </tbody>\n",
       "</table>\n",
       "</div>"
      ],
      "text/plain": [
       "                    Loss\n",
       "Loss type               \n",
       "Weighted        1.242233\n",
       "Not weighted    1.299436\n",
       "no reviews      4.451930\n",
       "1 review        1.925840\n",
       "over 2 review   1.250599\n",
       "over 5 review   1.244608\n",
       "over 10 review  1.239027\n",
       "over 20 review  1.233346"
      ]
     },
     "execution_count": 15,
     "metadata": {},
     "output_type": "execute_result"
    },
    {
     "data": {
      "image/png": "[encoded data removed]",
      "text/plain": [
       "<Figure size 432x288 with 1 Axes>"
      ]
     },
     "metadata": {
      "needs_background": "light"
     },
     "output_type": "display_data"
    }
   ],
   "source": [
    "test_loss = pd.read_csv('models/sum_results.csv').set_index('Unnamed: 0')\n",
    "test_loss.index.name = \"Loss type\"\n",
    "test_loss.columns = ['Loss']\n",
    "test_loss['Loss'].plot.barh()\n",
    "test_loss"
   ]
  },
  {
   "cell_type": "code",
   "execution_count": 16,
   "metadata": {},
   "outputs": [],
   "source": [
    "# Predicted vs results\n",
    "test_results = pd.read_csv('models/full_results.csv').set_index('Unnamed: 0')\n"
   ]
  },
  {
   "cell_type": "code",
   "execution_count": 17,
   "metadata": {},
   "outputs": [
    {
     "name": "stderr",
     "output_type": "stream",
     "text": [
      "C:\\Users\\User\\anaconda3\\lib\\site-packages\\seaborn\\_decorators.py:36: FutureWarning: Pass the following variables as keyword args: x, y. From version 0.12, the only valid positional argument will be `data`, and passing other arguments without an explicit keyword will result in an error or misinterpretation.\n",
      "  warnings.warn(\n"
     ]
    },
    {
     "data": {
      "text/plain": [
       "<seaborn.axisgrid.JointGrid at 0x2a1a2977130>"
      ]
     },
     "execution_count": 17,
     "metadata": {},
     "output_type": "execute_result"
    },
    {
     "data": {
      "image/png": "[encoded data removed]",
      "text/plain": [
       "<Figure size 432x432 with 3 Axes>"
      ]
     },
     "metadata": {
      "needs_background": "light"
     },
     "output_type": "display_data"
    }
   ],
   "source": [
    "sns.jointplot(test_results['Predicted'],test_results['True'],  kind='hex')"
   ]
  },
  {
   "cell_type": "code",
   "execution_count": 18,
   "metadata": {},
   "outputs": [
    {
     "name": "stderr",
     "output_type": "stream",
     "text": [
      "C:\\Users\\User\\anaconda3\\lib\\site-packages\\seaborn\\_decorators.py:36: FutureWarning: Pass the following variables as keyword args: x, y. From version 0.12, the only valid positional argument will be `data`, and passing other arguments without an explicit keyword will result in an error or misinterpretation.\n",
      "  warnings.warn(\n"
     ]
    },
    {
     "data": {
      "text/plain": [
       "<seaborn.axisgrid.JointGrid at 0x2a1a35d5c10>"
      ]
     },
     "execution_count": 18,
     "metadata": {},
     "output_type": "execute_result"
    },
    {
     "data": {
      "image/png": "[encoded data removed]",
      "text/plain": [
       "<Figure size 432x432 with 3 Axes>"
      ]
     },
     "metadata": {
      "needs_background": "light"
     },
     "output_type": "display_data"
    }
   ],
   "source": [
    "sns.jointplot(test_results['Predicted'],test_results['True'],  xlim=(4,9), ylim=(4,9), kind='hex')"
   ]
  },
  {
   "cell_type": "markdown",
   "metadata": {},
   "source": [
    "## Our model in action"
   ]
  },
  {
   "cell_type": "code",
   "execution_count": 19,
   "metadata": {},
   "outputs": [],
   "source": [
    "model = xgb.Booster()\n",
    "model.load_model('models/model_data.json')"
   ]
  },
  {
   "cell_type": "code",
   "execution_count": 20,
   "metadata": {},
   "outputs": [],
   "source": [
    "f_score = model.get_fscore()\n",
    "f_score = dict([ (train_X.columns[ int(key.replace('f', '')) ], int(value)) for key, value in f_score.items() ])\n",
    "f_score = pd.Series(f_score).sort_values(ascending=False)"
   ]
  },
  {
   "cell_type": "code",
   "execution_count": 21,
   "metadata": {},
   "outputs": [],
   "source": [
    "df_f_score = f_score.to_frame().reset_index()\n",
    "df_f_score = df_f_score.rename({0: 'power'}, axis=1)"
   ]
  },
  {
   "cell_type": "code",
   "execution_count": 22,
   "metadata": {},
   "outputs": [
    {
     "data": {
      "text/plain": [
       "<AxesSubplot:ylabel='index'>"
      ]
     },
     "execution_count": 22,
     "metadata": {},
     "output_type": "execute_result"
    },
    {
     "data": {
      "image/png": "[encoded data removed]",
      "text/plain": [
       "<Figure size 432x288 with 1 Axes>"
      ]
     },
     "metadata": {
      "needs_background": "light"
     },
     "output_type": "display_data"
    }
   ],
   "source": [
    "df_f_score.groupby('index').sum()['power'].sort_values(ascending=False).head(13).plot.barh()"
   ]
  },
  {
   "cell_type": "markdown",
   "metadata": {},
   "source": [
    "## Predictions\n",
    "Lets see how well our model works for this user"
   ]
  },
  {
   "cell_type": "code",
   "execution_count": 23,
   "metadata": {},
   "outputs": [
    {
     "data": {
      "text/html": [
       "<div>\n",
       "<style scoped>\n",
       "    .dataframe tbody tr th:only-of-type {\n",
       "        vertical-align: middle;\n",
       "    }\n",
       "\n",
       "    .dataframe tbody tr th {\n",
       "        vertical-align: top;\n",
       "    }\n",
       "\n",
       "    .dataframe thead th {\n",
       "        text-align: right;\n",
       "    }\n",
       "</style>\n",
       "<table border=\"1\" class=\"dataframe\">\n",
       "  <thead>\n",
       "    <tr style=\"text-align: right;\">\n",
       "      <th></th>\n",
       "      <th>user</th>\n",
       "      <th>game_id</th>\n",
       "      <th>rating</th>\n",
       "      <th>prediction</th>\n",
       "      <th>primary</th>\n",
       "    </tr>\n",
       "  </thead>\n",
       "  <tbody>\n",
       "    <tr>\n",
       "      <th>13533141</th>\n",
       "      <td>1000salmons</td>\n",
       "      <td>150376</td>\n",
       "      <td>7.5</td>\n",
       "      <td>7.310829</td>\n",
       "      <td>Dead of Winter: A Crossroads Game</td>\n",
       "    </tr>\n",
       "    <tr>\n",
       "      <th>14859079</th>\n",
       "      <td>1000salmons</td>\n",
       "      <td>68448</td>\n",
       "      <td>8.5</td>\n",
       "      <td>7.521356</td>\n",
       "      <td>7 Wonders</td>\n",
       "    </tr>\n",
       "    <tr>\n",
       "      <th>14913452</th>\n",
       "      <td>1000salmons</td>\n",
       "      <td>320</td>\n",
       "      <td>6.5</td>\n",
       "      <td>6.598529</td>\n",
       "      <td>Scrabble</td>\n",
       "    </tr>\n",
       "    <tr>\n",
       "      <th>15349127</th>\n",
       "      <td>1000salmons</td>\n",
       "      <td>129622</td>\n",
       "      <td>7.5</td>\n",
       "      <td>7.615163</td>\n",
       "      <td>Love Letter</td>\n",
       "    </tr>\n",
       "  </tbody>\n",
       "</table>\n",
       "</div>"
      ],
      "text/plain": [
       "                 user  game_id  rating  prediction  \\\n",
       "13533141  1000salmons   150376     7.5    7.310829   \n",
       "14859079  1000salmons    68448     8.5    7.521356   \n",
       "14913452  1000salmons      320     6.5    6.598529   \n",
       "15349127  1000salmons   129622     7.5    7.615163   \n",
       "\n",
       "                                    primary  \n",
       "13533141  Dead of Winter: A Crossroads Game  \n",
       "14859079                          7 Wonders  \n",
       "14913452                           Scrabble  \n",
       "15349127                        Love Letter  "
      ]
     },
     "execution_count": 23,
     "metadata": {},
     "output_type": "execute_result"
    }
   ],
   "source": [
    "sample_predictions = pd.Series(model.predict(xgb.DMatrix(test_X)), index=sample_test.index, name='prediction')\n",
    "sample_test.join(sample_predictions).join(game_details_df[['primary']], on=sample_test.game_id)\n"
   ]
  },
  {
   "cell_type": "markdown",
   "metadata": {},
   "source": [
    "Now, lets find the best game for this user, from those he never played!"
   ]
  },
  {
   "cell_type": "code",
   "execution_count": 24,
   "metadata": {},
   "outputs": [],
   "source": [
    "games_played = sample_train['game_id'].append(sample_test['game_id'])\n",
    "other_games_X_base = pd.DataFrame([('1000salmons', id) \n",
    "    for id in game_details_df[ ~game_details_df.index.isin(games_played) ].index],\n",
    "columns=['user', 'game_id'])\n",
    "\n",
    "other_games_X = pipeline.transform(other_games_X_base)\n",
    "other_games_X = pd.DataFrame(other_games_X, columns=pipeline.steps[-1][1].get_feature_names())\n"
   ]
  },
  {
   "cell_type": "code",
   "execution_count": 25,
   "metadata": {},
   "outputs": [],
   "source": [
    "res = model.predict(xgb.DMatrix(other_games_X))\n",
    "other_games_X_base['predicted'] = pd.Series(res)"
   ]
  },
  {
   "cell_type": "code",
   "execution_count": 26,
   "metadata": {},
   "outputs": [
    {
     "data": {
      "text/html": [
       "<div>\n",
       "<style scoped>\n",
       "    .dataframe tbody tr th:only-of-type {\n",
       "        vertical-align: middle;\n",
       "    }\n",
       "\n",
       "    .dataframe tbody tr th {\n",
       "        vertical-align: top;\n",
       "    }\n",
       "\n",
       "    .dataframe thead th {\n",
       "        text-align: right;\n",
       "    }\n",
       "</style>\n",
       "<table border=\"1\" class=\"dataframe\">\n",
       "  <thead>\n",
       "    <tr style=\"text-align: right;\">\n",
       "      <th></th>\n",
       "      <th>user</th>\n",
       "      <th>game_id</th>\n",
       "      <th>predicted</th>\n",
       "      <th>primary</th>\n",
       "    </tr>\n",
       "  </thead>\n",
       "  <tbody>\n",
       "    <tr>\n",
       "      <th>17511</th>\n",
       "      <td>1000salmons</td>\n",
       "      <td>5618</td>\n",
       "      <td>8.603914</td>\n",
       "      <td>Sports Action Canadian Pro Football</td>\n",
       "    </tr>\n",
       "    <tr>\n",
       "      <th>18446</th>\n",
       "      <td>1000salmons</td>\n",
       "      <td>149705</td>\n",
       "      <td>8.586160</td>\n",
       "      <td>Croquet: A Cardboard Game</td>\n",
       "    </tr>\n",
       "    <tr>\n",
       "      <th>13160</th>\n",
       "      <td>1000salmons</td>\n",
       "      <td>160524</td>\n",
       "      <td>8.545771</td>\n",
       "      <td>Soccer Blast Pro Soccer Game</td>\n",
       "    </tr>\n",
       "    <tr>\n",
       "      <th>7668</th>\n",
       "      <td>1000salmons</td>\n",
       "      <td>141067</td>\n",
       "      <td>8.543917</td>\n",
       "      <td>History Maker Baseball</td>\n",
       "    </tr>\n",
       "    <tr>\n",
       "      <th>18150</th>\n",
       "      <td>1000salmons</td>\n",
       "      <td>170298</td>\n",
       "      <td>8.500785</td>\n",
       "      <td>One-hour Wargames</td>\n",
       "    </tr>\n",
       "    <tr>\n",
       "      <th>11287</th>\n",
       "      <td>1000salmons</td>\n",
       "      <td>139747</td>\n",
       "      <td>8.485640</td>\n",
       "      <td>Arena Rex</td>\n",
       "    </tr>\n",
       "    <tr>\n",
       "      <th>17058</th>\n",
       "      <td>1000salmons</td>\n",
       "      <td>38562</td>\n",
       "      <td>8.479215</td>\n",
       "      <td>Song of Arthur and Merlin</td>\n",
       "    </tr>\n",
       "    <tr>\n",
       "      <th>18707</th>\n",
       "      <td>1000salmons</td>\n",
       "      <td>118537</td>\n",
       "      <td>8.478177</td>\n",
       "      <td>Fortress Sevastopol</td>\n",
       "    </tr>\n",
       "    <tr>\n",
       "      <th>16630</th>\n",
       "      <td>1000salmons</td>\n",
       "      <td>7447</td>\n",
       "      <td>8.473020</td>\n",
       "      <td>Replay Basketball</td>\n",
       "    </tr>\n",
       "    <tr>\n",
       "      <th>7487</th>\n",
       "      <td>1000salmons</td>\n",
       "      <td>199182</td>\n",
       "      <td>8.463495</td>\n",
       "      <td>Commands &amp; Colors Tricorne: The American Revol...</td>\n",
       "    </tr>\n",
       "  </tbody>\n",
       "</table>\n",
       "</div>"
      ],
      "text/plain": [
       "              user  game_id  predicted  \\\n",
       "17511  1000salmons     5618   8.603914   \n",
       "18446  1000salmons   149705   8.586160   \n",
       "13160  1000salmons   160524   8.545771   \n",
       "7668   1000salmons   141067   8.543917   \n",
       "18150  1000salmons   170298   8.500785   \n",
       "11287  1000salmons   139747   8.485640   \n",
       "17058  1000salmons    38562   8.479215   \n",
       "18707  1000salmons   118537   8.478177   \n",
       "16630  1000salmons     7447   8.473020   \n",
       "7487   1000salmons   199182   8.463495   \n",
       "\n",
       "                                                 primary  \n",
       "17511                Sports Action Canadian Pro Football  \n",
       "18446                          Croquet: A Cardboard Game  \n",
       "13160                       Soccer Blast Pro Soccer Game  \n",
       "7668                              History Maker Baseball  \n",
       "18150                                  One-hour Wargames  \n",
       "11287                                          Arena Rex  \n",
       "17058                          Song of Arthur and Merlin  \n",
       "18707                                Fortress Sevastopol  \n",
       "16630                                  Replay Basketball  \n",
       "7487   Commands & Colors Tricorne: The American Revol...  "
      ]
     },
     "execution_count": 26,
     "metadata": {},
     "output_type": "execute_result"
    }
   ],
   "source": [
    "other_games_X_base.join(game_details_df[['primary']], on=other_games_X_base.game_id).sort_values('predicted', ascending=False).head(10)\n"
   ]
  },
  {
   "cell_type": "markdown",
   "metadata": {},
   "source": [
    "### What would an empty user look like?\n",
    "Just for kicks, even if this system does not work well with these users, let's see what's the recommended games for a user with no reviews"
   ]
  },
  {
   "cell_type": "code",
   "execution_count": 27,
   "metadata": {},
   "outputs": [],
   "source": [
    "all_games_X_base = pd.DataFrame([(' Never Seen User ', id) \n",
    "    for id in game_details_df.index],\n",
    "columns=['user', 'game_id'])\n",
    "\n",
    "all_games_X = pipeline.transform(other_games_X_base)\n",
    "all_games_X = pd.DataFrame(other_games_X, columns=pipeline.steps[-1][1].get_feature_names())\n"
   ]
  },
  {
   "cell_type": "code",
   "execution_count": 28,
   "metadata": {},
   "outputs": [],
   "source": [
    "res = model.predict(xgb.DMatrix(all_games_X))\n",
    "all_games_X_base['predicted'] = pd.Series(res)"
   ]
  },
  {
   "cell_type": "code",
   "execution_count": 29,
   "metadata": {},
   "outputs": [
    {
     "data": {
      "text/html": [
       "<div>\n",
       "<style scoped>\n",
       "    .dataframe tbody tr th:only-of-type {\n",
       "        vertical-align: middle;\n",
       "    }\n",
       "\n",
       "    .dataframe tbody tr th {\n",
       "        vertical-align: top;\n",
       "    }\n",
       "\n",
       "    .dataframe thead th {\n",
       "        text-align: right;\n",
       "    }\n",
       "</style>\n",
       "<table border=\"1\" class=\"dataframe\">\n",
       "  <thead>\n",
       "    <tr style=\"text-align: right;\">\n",
       "      <th></th>\n",
       "      <th>user</th>\n",
       "      <th>game_id</th>\n",
       "      <th>predicted</th>\n",
       "      <th>primary</th>\n",
       "    </tr>\n",
       "  </thead>\n",
       "  <tbody>\n",
       "    <tr>\n",
       "      <th>17511</th>\n",
       "      <td>Never Seen User</td>\n",
       "      <td>13879</td>\n",
       "      <td>8.603914</td>\n",
       "      <td>Scene it? Jr.</td>\n",
       "    </tr>\n",
       "    <tr>\n",
       "      <th>18446</th>\n",
       "      <td>Never Seen User</td>\n",
       "      <td>31021</td>\n",
       "      <td>8.586160</td>\n",
       "      <td>Shuffleboard Game</td>\n",
       "    </tr>\n",
       "    <tr>\n",
       "      <th>13160</th>\n",
       "      <td>Never Seen User</td>\n",
       "      <td>190462</td>\n",
       "      <td>8.545771</td>\n",
       "      <td>Triumph of Chaos v.2 (Deluxe Edition)</td>\n",
       "    </tr>\n",
       "    <tr>\n",
       "      <th>7668</th>\n",
       "      <td>Never Seen User</td>\n",
       "      <td>16142</td>\n",
       "      <td>8.543917</td>\n",
       "      <td>Geisterwäldchen</td>\n",
       "    </tr>\n",
       "    <tr>\n",
       "      <th>18150</th>\n",
       "      <td>Never Seen User</td>\n",
       "      <td>188493</td>\n",
       "      <td>8.500785</td>\n",
       "      <td>Sequence Cats</td>\n",
       "    </tr>\n",
       "    <tr>\n",
       "      <th>11287</th>\n",
       "      <td>Never Seen User</td>\n",
       "      <td>252542</td>\n",
       "      <td>8.485640</td>\n",
       "      <td>The Romans</td>\n",
       "    </tr>\n",
       "    <tr>\n",
       "      <th>17058</th>\n",
       "      <td>Never Seen User</td>\n",
       "      <td>23818</td>\n",
       "      <td>8.479215</td>\n",
       "      <td>1847: Pfalz</td>\n",
       "    </tr>\n",
       "    <tr>\n",
       "      <th>18707</th>\n",
       "      <td>Never Seen User</td>\n",
       "      <td>182410</td>\n",
       "      <td>8.478177</td>\n",
       "      <td>The First Crusade</td>\n",
       "    </tr>\n",
       "    <tr>\n",
       "      <th>16630</th>\n",
       "      <td>Never Seen User</td>\n",
       "      <td>252883</td>\n",
       "      <td>8.473020</td>\n",
       "      <td>TOKYO SIDEKICK</td>\n",
       "    </tr>\n",
       "    <tr>\n",
       "      <th>7487</th>\n",
       "      <td>Never Seen User</td>\n",
       "      <td>275034</td>\n",
       "      <td>8.463495</td>\n",
       "      <td>Judge Dredd: Helter Skelter</td>\n",
       "    </tr>\n",
       "  </tbody>\n",
       "</table>\n",
       "</div>"
      ],
      "text/plain": [
       "                    user  game_id  predicted  \\\n",
       "17511   Never Seen User     13879   8.603914   \n",
       "18446   Never Seen User     31021   8.586160   \n",
       "13160   Never Seen User    190462   8.545771   \n",
       "7668    Never Seen User     16142   8.543917   \n",
       "18150   Never Seen User    188493   8.500785   \n",
       "11287   Never Seen User    252542   8.485640   \n",
       "17058   Never Seen User     23818   8.479215   \n",
       "18707   Never Seen User    182410   8.478177   \n",
       "16630   Never Seen User    252883   8.473020   \n",
       "7487    Never Seen User    275034   8.463495   \n",
       "\n",
       "                                     primary  \n",
       "17511                          Scene it? Jr.  \n",
       "18446                      Shuffleboard Game  \n",
       "13160  Triumph of Chaos v.2 (Deluxe Edition)  \n",
       "7668                         Geisterwäldchen  \n",
       "18150                          Sequence Cats  \n",
       "11287                             The Romans  \n",
       "17058                            1847: Pfalz  \n",
       "18707                      The First Crusade  \n",
       "16630                         TOKYO SIDEKICK  \n",
       "7487             Judge Dredd: Helter Skelter  "
      ]
     },
     "execution_count": 29,
     "metadata": {},
     "output_type": "execute_result"
    }
   ],
   "source": [
    "all_games_X_base.join(game_details_df[['primary']], on=all_games_X_base.game_id).sort_values('predicted', ascending=False).head(10)"
   ]
  }
 ],
 "metadata": {
  "kernelspec": {
   "display_name": "Python 3",
   "language": "python",
   "name": "python3"
  },
  "language_info": {
   "codemirror_mode": {
    "name": "ipython",
    "version": 3
   },
   "file_extension": ".py",
   "mimetype": "text/x-python",
   "name": "python",
   "nbconvert_exporter": "python",
   "pygments_lexer": "ipython3",
   "version": "3.8.5"
  },
  "metadata": {
   "interpreter": {
    "hash": "886ab68e679aa6c7b23ca3048720f5644105bf6f69580c3ee76b6c81fed9b8f7"
   }
  }
 },
 "nbformat": 4,
 "nbformat_minor": 2
}
